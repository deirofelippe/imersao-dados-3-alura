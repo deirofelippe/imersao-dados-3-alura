{
 "metadata": {
  "language_info": {
   "codemirror_mode": {
    "name": "ipython",
    "version": 3
   },
   "file_extension": ".py",
   "mimetype": "text/x-python",
   "name": "python",
   "nbconvert_exporter": "python",
   "pygments_lexer": "ipython3",
   "version": "3.8.5"
  },
  "orig_nbformat": 2,
  "kernelspec": {
   "name": "python385jvsc74a57bd031f2aee4e71d21fbe5cf8b01ff0e069b9275f58929596ceb00d14d90e3e16cd6",
   "display_name": "Python 3.8.5 64-bit"
  },
  "metadata": {
   "interpreter": {
    "hash": "31f2aee4e71d21fbe5cf8b01ff0e069b9275f58929596ceb00d14d90e3e16cd6"
   }
  }
 },
 "nbformat": 4,
 "nbformat_minor": 2,
 "cells": [
  {
   "cell_type": "code",
   "execution_count": 2,
   "metadata": {},
   "outputs": [
    {
     "output_type": "execute_result",
     "data": {
      "text/plain": [
       "                 id  5-alpha_reductase_inhibitor  11-beta-hsd1_inhibitor  \\\n",
       "0      id_000644bb2                            0                       0   \n",
       "1      id_000779bfc                            0                       0   \n",
       "2      id_000a6266a                            0                       0   \n",
       "3      id_0015fd391                            0                       0   \n",
       "4      id_001626bd3                            0                       0   \n",
       "...             ...                          ...                     ...   \n",
       "23809  id_fffb1ceed                            0                       0   \n",
       "23810  id_fffb70c0c                            0                       0   \n",
       "23811  id_fffc1c3f4                            0                       0   \n",
       "23812  id_fffcb9e7c                            0                       0   \n",
       "23813  id_ffffdd77b                            0                       0   \n",
       "\n",
       "       acat_inhibitor  acetylcholine_receptor_agonist  \\\n",
       "0                   0                               0   \n",
       "1                   0                               0   \n",
       "2                   0                               0   \n",
       "3                   0                               0   \n",
       "4                   0                               0   \n",
       "...               ...                             ...   \n",
       "23809               0                               0   \n",
       "23810               0                               0   \n",
       "23811               0                               0   \n",
       "23812               0                               0   \n",
       "23813               0                               0   \n",
       "\n",
       "       acetylcholine_receptor_antagonist  acetylcholinesterase_inhibitor  \\\n",
       "0                                      0                               0   \n",
       "1                                      0                               0   \n",
       "2                                      0                               0   \n",
       "3                                      0                               0   \n",
       "4                                      0                               0   \n",
       "...                                  ...                             ...   \n",
       "23809                                  0                               0   \n",
       "23810                                  0                               0   \n",
       "23811                                  0                               0   \n",
       "23812                                  0                               0   \n",
       "23813                                  0                               0   \n",
       "\n",
       "       adenosine_receptor_agonist  adenosine_receptor_antagonist  \\\n",
       "0                               0                              0   \n",
       "1                               0                              0   \n",
       "2                               0                              0   \n",
       "3                               0                              0   \n",
       "4                               0                              0   \n",
       "...                           ...                            ...   \n",
       "23809                           0                              0   \n",
       "23810                           0                              0   \n",
       "23811                           0                              0   \n",
       "23812                           0                              0   \n",
       "23813                           0                              0   \n",
       "\n",
       "       adenylyl_cyclase_activator  ...  tropomyosin_receptor_kinase_inhibitor  \\\n",
       "0                               0  ...                                      0   \n",
       "1                               0  ...                                      0   \n",
       "2                               0  ...                                      0   \n",
       "3                               0  ...                                      0   \n",
       "4                               0  ...                                      0   \n",
       "...                           ...  ...                                    ...   \n",
       "23809                           0  ...                                      0   \n",
       "23810                           0  ...                                      0   \n",
       "23811                           0  ...                                      0   \n",
       "23812                           0  ...                                      0   \n",
       "23813                           0  ...                                      0   \n",
       "\n",
       "       trpv_agonist  trpv_antagonist  tubulin_inhibitor  \\\n",
       "0                 0                0                  0   \n",
       "1                 0                0                  0   \n",
       "2                 0                0                  0   \n",
       "3                 0                0                  0   \n",
       "4                 0                0                  0   \n",
       "...             ...              ...                ...   \n",
       "23809             0                0                  0   \n",
       "23810             0                0                  0   \n",
       "23811             0                0                  0   \n",
       "23812             0                0                  0   \n",
       "23813             0                0                  0   \n",
       "\n",
       "       tyrosine_kinase_inhibitor  ubiquitin_specific_protease_inhibitor  \\\n",
       "0                              0                                      0   \n",
       "1                              0                                      0   \n",
       "2                              0                                      0   \n",
       "3                              0                                      0   \n",
       "4                              0                                      0   \n",
       "...                          ...                                    ...   \n",
       "23809                          0                                      0   \n",
       "23810                          0                                      0   \n",
       "23811                          0                                      0   \n",
       "23812                          0                                      0   \n",
       "23813                          0                                      0   \n",
       "\n",
       "       vegfr_inhibitor  vitamin_b  vitamin_d_receptor_agonist  wnt_inhibitor  \n",
       "0                    0          0                           0              0  \n",
       "1                    0          0                           0              0  \n",
       "2                    0          0                           0              0  \n",
       "3                    0          0                           0              0  \n",
       "4                    0          0                           0              0  \n",
       "...                ...        ...                         ...            ...  \n",
       "23809                0          0                           0              0  \n",
       "23810                0          0                           0              0  \n",
       "23811                0          0                           0              0  \n",
       "23812                0          0                           0              0  \n",
       "23813                0          0                           0              0  \n",
       "\n",
       "[23814 rows x 207 columns]"
      ],
      "text/html": "<div>\n<style scoped>\n    .dataframe tbody tr th:only-of-type {\n        vertical-align: middle;\n    }\n\n    .dataframe tbody tr th {\n        vertical-align: top;\n    }\n\n    .dataframe thead th {\n        text-align: right;\n    }\n</style>\n<table border=\"1\" class=\"dataframe\">\n  <thead>\n    <tr style=\"text-align: right;\">\n      <th></th>\n      <th>id</th>\n      <th>5-alpha_reductase_inhibitor</th>\n      <th>11-beta-hsd1_inhibitor</th>\n      <th>acat_inhibitor</th>\n      <th>acetylcholine_receptor_agonist</th>\n      <th>acetylcholine_receptor_antagonist</th>\n      <th>acetylcholinesterase_inhibitor</th>\n      <th>adenosine_receptor_agonist</th>\n      <th>adenosine_receptor_antagonist</th>\n      <th>adenylyl_cyclase_activator</th>\n      <th>...</th>\n      <th>tropomyosin_receptor_kinase_inhibitor</th>\n      <th>trpv_agonist</th>\n      <th>trpv_antagonist</th>\n      <th>tubulin_inhibitor</th>\n      <th>tyrosine_kinase_inhibitor</th>\n      <th>ubiquitin_specific_protease_inhibitor</th>\n      <th>vegfr_inhibitor</th>\n      <th>vitamin_b</th>\n      <th>vitamin_d_receptor_agonist</th>\n      <th>wnt_inhibitor</th>\n    </tr>\n  </thead>\n  <tbody>\n    <tr>\n      <th>0</th>\n      <td>id_000644bb2</td>\n      <td>0</td>\n      <td>0</td>\n      <td>0</td>\n      <td>0</td>\n      <td>0</td>\n      <td>0</td>\n      <td>0</td>\n      <td>0</td>\n      <td>0</td>\n      <td>...</td>\n      <td>0</td>\n      <td>0</td>\n      <td>0</td>\n      <td>0</td>\n      <td>0</td>\n      <td>0</td>\n      <td>0</td>\n      <td>0</td>\n      <td>0</td>\n      <td>0</td>\n    </tr>\n    <tr>\n      <th>1</th>\n      <td>id_000779bfc</td>\n      <td>0</td>\n      <td>0</td>\n      <td>0</td>\n      <td>0</td>\n      <td>0</td>\n      <td>0</td>\n      <td>0</td>\n      <td>0</td>\n      <td>0</td>\n      <td>...</td>\n      <td>0</td>\n      <td>0</td>\n      <td>0</td>\n      <td>0</td>\n      <td>0</td>\n      <td>0</td>\n      <td>0</td>\n      <td>0</td>\n      <td>0</td>\n      <td>0</td>\n    </tr>\n    <tr>\n      <th>2</th>\n      <td>id_000a6266a</td>\n      <td>0</td>\n      <td>0</td>\n      <td>0</td>\n      <td>0</td>\n      <td>0</td>\n      <td>0</td>\n      <td>0</td>\n      <td>0</td>\n      <td>0</td>\n      <td>...</td>\n      <td>0</td>\n      <td>0</td>\n      <td>0</td>\n      <td>0</td>\n      <td>0</td>\n      <td>0</td>\n      <td>0</td>\n      <td>0</td>\n      <td>0</td>\n      <td>0</td>\n    </tr>\n    <tr>\n      <th>3</th>\n      <td>id_0015fd391</td>\n      <td>0</td>\n      <td>0</td>\n      <td>0</td>\n      <td>0</td>\n      <td>0</td>\n      <td>0</td>\n      <td>0</td>\n      <td>0</td>\n      <td>0</td>\n      <td>...</td>\n      <td>0</td>\n      <td>0</td>\n      <td>0</td>\n      <td>0</td>\n      <td>0</td>\n      <td>0</td>\n      <td>0</td>\n      <td>0</td>\n      <td>0</td>\n      <td>0</td>\n    </tr>\n    <tr>\n      <th>4</th>\n      <td>id_001626bd3</td>\n      <td>0</td>\n      <td>0</td>\n      <td>0</td>\n      <td>0</td>\n      <td>0</td>\n      <td>0</td>\n      <td>0</td>\n      <td>0</td>\n      <td>0</td>\n      <td>...</td>\n      <td>0</td>\n      <td>0</td>\n      <td>0</td>\n      <td>0</td>\n      <td>0</td>\n      <td>0</td>\n      <td>0</td>\n      <td>0</td>\n      <td>0</td>\n      <td>0</td>\n    </tr>\n    <tr>\n      <th>...</th>\n      <td>...</td>\n      <td>...</td>\n      <td>...</td>\n      <td>...</td>\n      <td>...</td>\n      <td>...</td>\n      <td>...</td>\n      <td>...</td>\n      <td>...</td>\n      <td>...</td>\n      <td>...</td>\n      <td>...</td>\n      <td>...</td>\n      <td>...</td>\n      <td>...</td>\n      <td>...</td>\n      <td>...</td>\n      <td>...</td>\n      <td>...</td>\n      <td>...</td>\n      <td>...</td>\n    </tr>\n    <tr>\n      <th>23809</th>\n      <td>id_fffb1ceed</td>\n      <td>0</td>\n      <td>0</td>\n      <td>0</td>\n      <td>0</td>\n      <td>0</td>\n      <td>0</td>\n      <td>0</td>\n      <td>0</td>\n      <td>0</td>\n      <td>...</td>\n      <td>0</td>\n      <td>0</td>\n      <td>0</td>\n      <td>0</td>\n      <td>0</td>\n      <td>0</td>\n      <td>0</td>\n      <td>0</td>\n      <td>0</td>\n      <td>0</td>\n    </tr>\n    <tr>\n      <th>23810</th>\n      <td>id_fffb70c0c</td>\n      <td>0</td>\n      <td>0</td>\n      <td>0</td>\n      <td>0</td>\n      <td>0</td>\n      <td>0</td>\n      <td>0</td>\n      <td>0</td>\n      <td>0</td>\n      <td>...</td>\n      <td>0</td>\n      <td>0</td>\n      <td>0</td>\n      <td>0</td>\n      <td>0</td>\n      <td>0</td>\n      <td>0</td>\n      <td>0</td>\n      <td>0</td>\n      <td>0</td>\n    </tr>\n    <tr>\n      <th>23811</th>\n      <td>id_fffc1c3f4</td>\n      <td>0</td>\n      <td>0</td>\n      <td>0</td>\n      <td>0</td>\n      <td>0</td>\n      <td>0</td>\n      <td>0</td>\n      <td>0</td>\n      <td>0</td>\n      <td>...</td>\n      <td>0</td>\n      <td>0</td>\n      <td>0</td>\n      <td>0</td>\n      <td>0</td>\n      <td>0</td>\n      <td>0</td>\n      <td>0</td>\n      <td>0</td>\n      <td>0</td>\n    </tr>\n    <tr>\n      <th>23812</th>\n      <td>id_fffcb9e7c</td>\n      <td>0</td>\n      <td>0</td>\n      <td>0</td>\n      <td>0</td>\n      <td>0</td>\n      <td>0</td>\n      <td>0</td>\n      <td>0</td>\n      <td>0</td>\n      <td>...</td>\n      <td>0</td>\n      <td>0</td>\n      <td>0</td>\n      <td>0</td>\n      <td>0</td>\n      <td>0</td>\n      <td>0</td>\n      <td>0</td>\n      <td>0</td>\n      <td>0</td>\n    </tr>\n    <tr>\n      <th>23813</th>\n      <td>id_ffffdd77b</td>\n      <td>0</td>\n      <td>0</td>\n      <td>0</td>\n      <td>0</td>\n      <td>0</td>\n      <td>0</td>\n      <td>0</td>\n      <td>0</td>\n      <td>0</td>\n      <td>...</td>\n      <td>0</td>\n      <td>0</td>\n      <td>0</td>\n      <td>0</td>\n      <td>0</td>\n      <td>0</td>\n      <td>0</td>\n      <td>0</td>\n      <td>0</td>\n      <td>0</td>\n    </tr>\n  </tbody>\n</table>\n<p>23814 rows × 207 columns</p>\n</div>"
     },
     "metadata": {},
     "execution_count": 2
    }
   ],
   "source": [
    "import pandas as pd\n",
    "\n",
    "url_dados = 'https://github.com/alura-cursos/imersaodados3/blob/main/dados/dados_experimentos.zip?raw=true'\n",
    "\n",
    "dados = pd.read_csv(url_dados, compression='zip')\n",
    "\n",
    "url_dados_resultados = 'https://github.com/alura-cursos/imersaodados3/blob/main/dados/dados_resultados.csv?raw=true'\n",
    "\n",
    "dados_resultados = pd.read_csv(url_dados_resultados)\n",
    "\n",
    "dados_resultados"
   ]
  },
  {
   "cell_type": "code",
   "execution_count": 3,
   "metadata": {},
   "outputs": [
    {
     "output_type": "execute_result",
     "data": {
      "text/plain": [
       "array([0, 1])"
      ]
     },
     "metadata": {},
     "execution_count": 3
    }
   ],
   "source": [
    "dados_resultados['acetylcholine_receptor_agonist'].unique()"
   ]
  },
  {
   "cell_type": "code",
   "execution_count": 4,
   "metadata": {},
   "outputs": [
    {
     "output_type": "stream",
     "name": "stdout",
     "text": [
      "<class 'pandas.core.frame.DataFrame'>\nRangeIndex: 23814 entries, 0 to 23813\nColumns: 207 entries, id to wnt_inhibitor\ndtypes: int64(206), object(1)\nmemory usage: 37.6+ MB\n"
     ]
    }
   ],
   "source": [
    "dados_resultados.info()"
   ]
  },
  {
   "cell_type": "code",
   "execution_count": 5,
   "metadata": {},
   "outputs": [
    {
     "output_type": "execute_result",
     "data": {
      "text/plain": [
       "nfkb_inhibitor                                832\n",
       "proteasome_inhibitor                          726\n",
       "cyclooxygenase_inhibitor                      435\n",
       "dopamine_receptor_antagonist                  424\n",
       "serotonin_receptor_antagonist                 404\n",
       "                                             ... \n",
       "elastase_inhibitor                              6\n",
       "steroid                                         6\n",
       "atm_kinase_inhibitor                            6\n",
       "erbb2_inhibitor                                 1\n",
       "atp-sensitive_potassium_channel_antagonist      1\n",
       "Length: 206, dtype: int64"
      ]
     },
     "metadata": {},
     "execution_count": 5
    }
   ],
   "source": [
    "contagem_moa = dados_resultados.drop('id', axis=1).sum().sort_values(ascending=False)\n",
    "contagem_moa"
   ]
  },
  {
   "cell_type": "code",
   "execution_count": 6,
   "metadata": {},
   "outputs": [
    {
     "output_type": "execute_result",
     "data": {
      "text/plain": [
       "0        1\n",
       "1        0\n",
       "2        3\n",
       "3        0\n",
       "4        1\n",
       "        ..\n",
       "23809    1\n",
       "23810    1\n",
       "23811    0\n",
       "23812    1\n",
       "23813    0\n",
       "Length: 23814, dtype: int64"
      ]
     },
     "metadata": {},
     "execution_count": 6
    }
   ],
   "source": [
    "dados_resultados.drop('id', axis=1).sum(axis=1)"
   ]
  },
  {
   "cell_type": "code",
   "execution_count": 7,
   "metadata": {},
   "outputs": [],
   "source": [
    "dados_resultados['n_moa'] = dados_resultados.drop('id', axis=1).sum(axis=1)"
   ]
  },
  {
   "cell_type": "code",
   "execution_count": 8,
   "metadata": {},
   "outputs": [
    {
     "output_type": "execute_result",
     "data": {
      "text/plain": [
       "                 id  5-alpha_reductase_inhibitor  11-beta-hsd1_inhibitor  \\\n",
       "0      id_000644bb2                            0                       0   \n",
       "1      id_000779bfc                            0                       0   \n",
       "2      id_000a6266a                            0                       0   \n",
       "3      id_0015fd391                            0                       0   \n",
       "4      id_001626bd3                            0                       0   \n",
       "...             ...                          ...                     ...   \n",
       "23809  id_fffb1ceed                            0                       0   \n",
       "23810  id_fffb70c0c                            0                       0   \n",
       "23811  id_fffc1c3f4                            0                       0   \n",
       "23812  id_fffcb9e7c                            0                       0   \n",
       "23813  id_ffffdd77b                            0                       0   \n",
       "\n",
       "       acat_inhibitor  acetylcholine_receptor_agonist  \\\n",
       "0                   0                               0   \n",
       "1                   0                               0   \n",
       "2                   0                               0   \n",
       "3                   0                               0   \n",
       "4                   0                               0   \n",
       "...               ...                             ...   \n",
       "23809               0                               0   \n",
       "23810               0                               0   \n",
       "23811               0                               0   \n",
       "23812               0                               0   \n",
       "23813               0                               0   \n",
       "\n",
       "       acetylcholine_receptor_antagonist  acetylcholinesterase_inhibitor  \\\n",
       "0                                      0                               0   \n",
       "1                                      0                               0   \n",
       "2                                      0                               0   \n",
       "3                                      0                               0   \n",
       "4                                      0                               0   \n",
       "...                                  ...                             ...   \n",
       "23809                                  0                               0   \n",
       "23810                                  0                               0   \n",
       "23811                                  0                               0   \n",
       "23812                                  0                               0   \n",
       "23813                                  0                               0   \n",
       "\n",
       "       adenosine_receptor_agonist  adenosine_receptor_antagonist  \\\n",
       "0                               0                              0   \n",
       "1                               0                              0   \n",
       "2                               0                              0   \n",
       "3                               0                              0   \n",
       "4                               0                              0   \n",
       "...                           ...                            ...   \n",
       "23809                           0                              0   \n",
       "23810                           0                              0   \n",
       "23811                           0                              0   \n",
       "23812                           0                              0   \n",
       "23813                           0                              0   \n",
       "\n",
       "       adenylyl_cyclase_activator  ...  trpv_antagonist  tubulin_inhibitor  \\\n",
       "0                               0  ...                0                  0   \n",
       "1                               0  ...                0                  0   \n",
       "2                               0  ...                0                  0   \n",
       "3                               0  ...                0                  0   \n",
       "4                               0  ...                0                  0   \n",
       "...                           ...  ...              ...                ...   \n",
       "23809                           0  ...                0                  0   \n",
       "23810                           0  ...                0                  0   \n",
       "23811                           0  ...                0                  0   \n",
       "23812                           0  ...                0                  0   \n",
       "23813                           0  ...                0                  0   \n",
       "\n",
       "       tyrosine_kinase_inhibitor  ubiquitin_specific_protease_inhibitor  \\\n",
       "0                              0                                      0   \n",
       "1                              0                                      0   \n",
       "2                              0                                      0   \n",
       "3                              0                                      0   \n",
       "4                              0                                      0   \n",
       "...                          ...                                    ...   \n",
       "23809                          0                                      0   \n",
       "23810                          0                                      0   \n",
       "23811                          0                                      0   \n",
       "23812                          0                                      0   \n",
       "23813                          0                                      0   \n",
       "\n",
       "       vegfr_inhibitor  vitamin_b  vitamin_d_receptor_agonist  wnt_inhibitor  \\\n",
       "0                    0          0                           0              0   \n",
       "1                    0          0                           0              0   \n",
       "2                    0          0                           0              0   \n",
       "3                    0          0                           0              0   \n",
       "4                    0          0                           0              0   \n",
       "...                ...        ...                         ...            ...   \n",
       "23809                0          0                           0              0   \n",
       "23810                0          0                           0              0   \n",
       "23811                0          0                           0              0   \n",
       "23812                0          0                           0              0   \n",
       "23813                0          0                           0              0   \n",
       "\n",
       "       n_moa  ativo_moa  \n",
       "0          1       True  \n",
       "1          0      False  \n",
       "2          3       True  \n",
       "3          0      False  \n",
       "4          1       True  \n",
       "...      ...        ...  \n",
       "23809      1       True  \n",
       "23810      1       True  \n",
       "23811      0      False  \n",
       "23812      1       True  \n",
       "23813      0      False  \n",
       "\n",
       "[23814 rows x 209 columns]"
      ],
      "text/html": "<div>\n<style scoped>\n    .dataframe tbody tr th:only-of-type {\n        vertical-align: middle;\n    }\n\n    .dataframe tbody tr th {\n        vertical-align: top;\n    }\n\n    .dataframe thead th {\n        text-align: right;\n    }\n</style>\n<table border=\"1\" class=\"dataframe\">\n  <thead>\n    <tr style=\"text-align: right;\">\n      <th></th>\n      <th>id</th>\n      <th>5-alpha_reductase_inhibitor</th>\n      <th>11-beta-hsd1_inhibitor</th>\n      <th>acat_inhibitor</th>\n      <th>acetylcholine_receptor_agonist</th>\n      <th>acetylcholine_receptor_antagonist</th>\n      <th>acetylcholinesterase_inhibitor</th>\n      <th>adenosine_receptor_agonist</th>\n      <th>adenosine_receptor_antagonist</th>\n      <th>adenylyl_cyclase_activator</th>\n      <th>...</th>\n      <th>trpv_antagonist</th>\n      <th>tubulin_inhibitor</th>\n      <th>tyrosine_kinase_inhibitor</th>\n      <th>ubiquitin_specific_protease_inhibitor</th>\n      <th>vegfr_inhibitor</th>\n      <th>vitamin_b</th>\n      <th>vitamin_d_receptor_agonist</th>\n      <th>wnt_inhibitor</th>\n      <th>n_moa</th>\n      <th>ativo_moa</th>\n    </tr>\n  </thead>\n  <tbody>\n    <tr>\n      <th>0</th>\n      <td>id_000644bb2</td>\n      <td>0</td>\n      <td>0</td>\n      <td>0</td>\n      <td>0</td>\n      <td>0</td>\n      <td>0</td>\n      <td>0</td>\n      <td>0</td>\n      <td>0</td>\n      <td>...</td>\n      <td>0</td>\n      <td>0</td>\n      <td>0</td>\n      <td>0</td>\n      <td>0</td>\n      <td>0</td>\n      <td>0</td>\n      <td>0</td>\n      <td>1</td>\n      <td>True</td>\n    </tr>\n    <tr>\n      <th>1</th>\n      <td>id_000779bfc</td>\n      <td>0</td>\n      <td>0</td>\n      <td>0</td>\n      <td>0</td>\n      <td>0</td>\n      <td>0</td>\n      <td>0</td>\n      <td>0</td>\n      <td>0</td>\n      <td>...</td>\n      <td>0</td>\n      <td>0</td>\n      <td>0</td>\n      <td>0</td>\n      <td>0</td>\n      <td>0</td>\n      <td>0</td>\n      <td>0</td>\n      <td>0</td>\n      <td>False</td>\n    </tr>\n    <tr>\n      <th>2</th>\n      <td>id_000a6266a</td>\n      <td>0</td>\n      <td>0</td>\n      <td>0</td>\n      <td>0</td>\n      <td>0</td>\n      <td>0</td>\n      <td>0</td>\n      <td>0</td>\n      <td>0</td>\n      <td>...</td>\n      <td>0</td>\n      <td>0</td>\n      <td>0</td>\n      <td>0</td>\n      <td>0</td>\n      <td>0</td>\n      <td>0</td>\n      <td>0</td>\n      <td>3</td>\n      <td>True</td>\n    </tr>\n    <tr>\n      <th>3</th>\n      <td>id_0015fd391</td>\n      <td>0</td>\n      <td>0</td>\n      <td>0</td>\n      <td>0</td>\n      <td>0</td>\n      <td>0</td>\n      <td>0</td>\n      <td>0</td>\n      <td>0</td>\n      <td>...</td>\n      <td>0</td>\n      <td>0</td>\n      <td>0</td>\n      <td>0</td>\n      <td>0</td>\n      <td>0</td>\n      <td>0</td>\n      <td>0</td>\n      <td>0</td>\n      <td>False</td>\n    </tr>\n    <tr>\n      <th>4</th>\n      <td>id_001626bd3</td>\n      <td>0</td>\n      <td>0</td>\n      <td>0</td>\n      <td>0</td>\n      <td>0</td>\n      <td>0</td>\n      <td>0</td>\n      <td>0</td>\n      <td>0</td>\n      <td>...</td>\n      <td>0</td>\n      <td>0</td>\n      <td>0</td>\n      <td>0</td>\n      <td>0</td>\n      <td>0</td>\n      <td>0</td>\n      <td>0</td>\n      <td>1</td>\n      <td>True</td>\n    </tr>\n    <tr>\n      <th>...</th>\n      <td>...</td>\n      <td>...</td>\n      <td>...</td>\n      <td>...</td>\n      <td>...</td>\n      <td>...</td>\n      <td>...</td>\n      <td>...</td>\n      <td>...</td>\n      <td>...</td>\n      <td>...</td>\n      <td>...</td>\n      <td>...</td>\n      <td>...</td>\n      <td>...</td>\n      <td>...</td>\n      <td>...</td>\n      <td>...</td>\n      <td>...</td>\n      <td>...</td>\n      <td>...</td>\n    </tr>\n    <tr>\n      <th>23809</th>\n      <td>id_fffb1ceed</td>\n      <td>0</td>\n      <td>0</td>\n      <td>0</td>\n      <td>0</td>\n      <td>0</td>\n      <td>0</td>\n      <td>0</td>\n      <td>0</td>\n      <td>0</td>\n      <td>...</td>\n      <td>0</td>\n      <td>0</td>\n      <td>0</td>\n      <td>0</td>\n      <td>0</td>\n      <td>0</td>\n      <td>0</td>\n      <td>0</td>\n      <td>1</td>\n      <td>True</td>\n    </tr>\n    <tr>\n      <th>23810</th>\n      <td>id_fffb70c0c</td>\n      <td>0</td>\n      <td>0</td>\n      <td>0</td>\n      <td>0</td>\n      <td>0</td>\n      <td>0</td>\n      <td>0</td>\n      <td>0</td>\n      <td>0</td>\n      <td>...</td>\n      <td>0</td>\n      <td>0</td>\n      <td>0</td>\n      <td>0</td>\n      <td>0</td>\n      <td>0</td>\n      <td>0</td>\n      <td>0</td>\n      <td>1</td>\n      <td>True</td>\n    </tr>\n    <tr>\n      <th>23811</th>\n      <td>id_fffc1c3f4</td>\n      <td>0</td>\n      <td>0</td>\n      <td>0</td>\n      <td>0</td>\n      <td>0</td>\n      <td>0</td>\n      <td>0</td>\n      <td>0</td>\n      <td>0</td>\n      <td>...</td>\n      <td>0</td>\n      <td>0</td>\n      <td>0</td>\n      <td>0</td>\n      <td>0</td>\n      <td>0</td>\n      <td>0</td>\n      <td>0</td>\n      <td>0</td>\n      <td>False</td>\n    </tr>\n    <tr>\n      <th>23812</th>\n      <td>id_fffcb9e7c</td>\n      <td>0</td>\n      <td>0</td>\n      <td>0</td>\n      <td>0</td>\n      <td>0</td>\n      <td>0</td>\n      <td>0</td>\n      <td>0</td>\n      <td>0</td>\n      <td>...</td>\n      <td>0</td>\n      <td>0</td>\n      <td>0</td>\n      <td>0</td>\n      <td>0</td>\n      <td>0</td>\n      <td>0</td>\n      <td>0</td>\n      <td>1</td>\n      <td>True</td>\n    </tr>\n    <tr>\n      <th>23813</th>\n      <td>id_ffffdd77b</td>\n      <td>0</td>\n      <td>0</td>\n      <td>0</td>\n      <td>0</td>\n      <td>0</td>\n      <td>0</td>\n      <td>0</td>\n      <td>0</td>\n      <td>0</td>\n      <td>...</td>\n      <td>0</td>\n      <td>0</td>\n      <td>0</td>\n      <td>0</td>\n      <td>0</td>\n      <td>0</td>\n      <td>0</td>\n      <td>0</td>\n      <td>0</td>\n      <td>False</td>\n    </tr>\n  </tbody>\n</table>\n<p>23814 rows × 209 columns</p>\n</div>"
     },
     "metadata": {},
     "execution_count": 8
    }
   ],
   "source": [
    "dados_resultados['ativo_moa'] = (dados_resultados['n_moa'] != 0)\n",
    "dados_resultados"
   ]
  },
  {
   "cell_type": "code",
   "execution_count": 9,
   "metadata": {},
   "outputs": [
    {
     "output_type": "execute_result",
     "data": {
      "text/plain": [
       "                 id    tratamento  tempo dose      droga     g-0     g-1  \\\n",
       "0      id_000644bb2     com_droga     24   D1  b68db1d53  1.0620  0.5577   \n",
       "1      id_000779bfc     com_droga     72   D1  df89a8e5a  0.0743  0.4087   \n",
       "2      id_000a6266a     com_droga     48   D1  18bb41b2c  0.6280  0.5817   \n",
       "3      id_0015fd391     com_droga     48   D1  8c7f86626 -0.5138 -0.2491   \n",
       "4      id_001626bd3     com_droga     72   D2  7cbed3131 -0.3254 -0.4009   \n",
       "...             ...           ...    ...  ...        ...     ...     ...   \n",
       "23809  id_fffb1ceed     com_droga     24   D2  df1d0a5a1  0.1394 -0.0636   \n",
       "23810  id_fffb70c0c     com_droga     24   D2  ecf3b6b74 -1.3260  0.3478   \n",
       "23811  id_fffc1c3f4  com_controle     48   D2  cacb2b860  0.3942  0.3756   \n",
       "23812  id_fffcb9e7c     com_droga     24   D1  8b87a7a83  0.6660  0.2324   \n",
       "23813  id_ffffdd77b     com_droga     72   D1  972f41291 -0.8598  1.0240   \n",
       "\n",
       "          g-2     g-3     g-4  ...    c-92    c-93    c-94    c-95    c-96  \\\n",
       "0     -0.2479 -0.6208 -0.1944  ...  0.8076  0.5523 -0.1912  0.6584 -0.3981   \n",
       "1      0.2991  0.0604  1.0190  ...  0.4708  0.0230  0.2957  0.4899  0.1522   \n",
       "2      1.5540 -0.0764 -0.0323  ...  0.6103  0.0223 -1.3240 -0.3174 -0.6417   \n",
       "3     -0.2656  0.5288  4.0620  ... -5.6300 -1.3780 -0.8632 -1.2880 -1.6210   \n",
       "4      0.9700  0.6919  1.4180  ...  0.6670  1.0690  0.5523 -0.3031  0.1094   \n",
       "...       ...     ...     ...  ...     ...     ...     ...     ...     ...   \n",
       "23809 -0.1112 -0.5080 -0.4713  ... -0.8121  0.3434  0.5372 -0.3246  0.0631   \n",
       "23810 -0.3743  0.9905 -0.7178  ...  0.0423 -0.3195 -0.8086 -0.9798 -0.2084   \n",
       "23811  0.3109 -0.7389  0.5505  ...  0.7343  0.2807  0.4116  0.6422  0.2256   \n",
       "23812  0.4392  0.2044  0.8531  ... -0.2012  0.1506  1.5230  0.7101  0.1732   \n",
       "23813 -0.1361  0.7952 -0.3611  ... -6.6300 -4.0950 -7.3860 -1.4160 -3.5770   \n",
       "\n",
       "         c-97    c-98    c-99  n_moa  ativo_moa  \n",
       "0      0.2139  0.3801  0.4176      1       True  \n",
       "1      0.1241  0.6077  0.7371      0      False  \n",
       "2     -0.2187 -1.4080  0.6931      3       True  \n",
       "3     -0.8784 -0.3876 -0.8154      0      False  \n",
       "4      0.2885 -0.3786  0.7125      1       True  \n",
       "...       ...     ...     ...    ...        ...  \n",
       "23809  0.9171  0.5258  0.4680      1       True  \n",
       "23810 -0.1224 -0.2715  0.3689      1       True  \n",
       "23811  0.7592  0.6656  0.3808      0      False  \n",
       "23812  0.7015 -0.6290  0.0740      1       True  \n",
       "23813 -0.4775 -2.1500 -4.2520      0      False  \n",
       "\n",
       "[23814 rows x 879 columns]"
      ],
      "text/html": "<div>\n<style scoped>\n    .dataframe tbody tr th:only-of-type {\n        vertical-align: middle;\n    }\n\n    .dataframe tbody tr th {\n        vertical-align: top;\n    }\n\n    .dataframe thead th {\n        text-align: right;\n    }\n</style>\n<table border=\"1\" class=\"dataframe\">\n  <thead>\n    <tr style=\"text-align: right;\">\n      <th></th>\n      <th>id</th>\n      <th>tratamento</th>\n      <th>tempo</th>\n      <th>dose</th>\n      <th>droga</th>\n      <th>g-0</th>\n      <th>g-1</th>\n      <th>g-2</th>\n      <th>g-3</th>\n      <th>g-4</th>\n      <th>...</th>\n      <th>c-92</th>\n      <th>c-93</th>\n      <th>c-94</th>\n      <th>c-95</th>\n      <th>c-96</th>\n      <th>c-97</th>\n      <th>c-98</th>\n      <th>c-99</th>\n      <th>n_moa</th>\n      <th>ativo_moa</th>\n    </tr>\n  </thead>\n  <tbody>\n    <tr>\n      <th>0</th>\n      <td>id_000644bb2</td>\n      <td>com_droga</td>\n      <td>24</td>\n      <td>D1</td>\n      <td>b68db1d53</td>\n      <td>1.0620</td>\n      <td>0.5577</td>\n      <td>-0.2479</td>\n      <td>-0.6208</td>\n      <td>-0.1944</td>\n      <td>...</td>\n      <td>0.8076</td>\n      <td>0.5523</td>\n      <td>-0.1912</td>\n      <td>0.6584</td>\n      <td>-0.3981</td>\n      <td>0.2139</td>\n      <td>0.3801</td>\n      <td>0.4176</td>\n      <td>1</td>\n      <td>True</td>\n    </tr>\n    <tr>\n      <th>1</th>\n      <td>id_000779bfc</td>\n      <td>com_droga</td>\n      <td>72</td>\n      <td>D1</td>\n      <td>df89a8e5a</td>\n      <td>0.0743</td>\n      <td>0.4087</td>\n      <td>0.2991</td>\n      <td>0.0604</td>\n      <td>1.0190</td>\n      <td>...</td>\n      <td>0.4708</td>\n      <td>0.0230</td>\n      <td>0.2957</td>\n      <td>0.4899</td>\n      <td>0.1522</td>\n      <td>0.1241</td>\n      <td>0.6077</td>\n      <td>0.7371</td>\n      <td>0</td>\n      <td>False</td>\n    </tr>\n    <tr>\n      <th>2</th>\n      <td>id_000a6266a</td>\n      <td>com_droga</td>\n      <td>48</td>\n      <td>D1</td>\n      <td>18bb41b2c</td>\n      <td>0.6280</td>\n      <td>0.5817</td>\n      <td>1.5540</td>\n      <td>-0.0764</td>\n      <td>-0.0323</td>\n      <td>...</td>\n      <td>0.6103</td>\n      <td>0.0223</td>\n      <td>-1.3240</td>\n      <td>-0.3174</td>\n      <td>-0.6417</td>\n      <td>-0.2187</td>\n      <td>-1.4080</td>\n      <td>0.6931</td>\n      <td>3</td>\n      <td>True</td>\n    </tr>\n    <tr>\n      <th>3</th>\n      <td>id_0015fd391</td>\n      <td>com_droga</td>\n      <td>48</td>\n      <td>D1</td>\n      <td>8c7f86626</td>\n      <td>-0.5138</td>\n      <td>-0.2491</td>\n      <td>-0.2656</td>\n      <td>0.5288</td>\n      <td>4.0620</td>\n      <td>...</td>\n      <td>-5.6300</td>\n      <td>-1.3780</td>\n      <td>-0.8632</td>\n      <td>-1.2880</td>\n      <td>-1.6210</td>\n      <td>-0.8784</td>\n      <td>-0.3876</td>\n      <td>-0.8154</td>\n      <td>0</td>\n      <td>False</td>\n    </tr>\n    <tr>\n      <th>4</th>\n      <td>id_001626bd3</td>\n      <td>com_droga</td>\n      <td>72</td>\n      <td>D2</td>\n      <td>7cbed3131</td>\n      <td>-0.3254</td>\n      <td>-0.4009</td>\n      <td>0.9700</td>\n      <td>0.6919</td>\n      <td>1.4180</td>\n      <td>...</td>\n      <td>0.6670</td>\n      <td>1.0690</td>\n      <td>0.5523</td>\n      <td>-0.3031</td>\n      <td>0.1094</td>\n      <td>0.2885</td>\n      <td>-0.3786</td>\n      <td>0.7125</td>\n      <td>1</td>\n      <td>True</td>\n    </tr>\n    <tr>\n      <th>...</th>\n      <td>...</td>\n      <td>...</td>\n      <td>...</td>\n      <td>...</td>\n      <td>...</td>\n      <td>...</td>\n      <td>...</td>\n      <td>...</td>\n      <td>...</td>\n      <td>...</td>\n      <td>...</td>\n      <td>...</td>\n      <td>...</td>\n      <td>...</td>\n      <td>...</td>\n      <td>...</td>\n      <td>...</td>\n      <td>...</td>\n      <td>...</td>\n      <td>...</td>\n      <td>...</td>\n    </tr>\n    <tr>\n      <th>23809</th>\n      <td>id_fffb1ceed</td>\n      <td>com_droga</td>\n      <td>24</td>\n      <td>D2</td>\n      <td>df1d0a5a1</td>\n      <td>0.1394</td>\n      <td>-0.0636</td>\n      <td>-0.1112</td>\n      <td>-0.5080</td>\n      <td>-0.4713</td>\n      <td>...</td>\n      <td>-0.8121</td>\n      <td>0.3434</td>\n      <td>0.5372</td>\n      <td>-0.3246</td>\n      <td>0.0631</td>\n      <td>0.9171</td>\n      <td>0.5258</td>\n      <td>0.4680</td>\n      <td>1</td>\n      <td>True</td>\n    </tr>\n    <tr>\n      <th>23810</th>\n      <td>id_fffb70c0c</td>\n      <td>com_droga</td>\n      <td>24</td>\n      <td>D2</td>\n      <td>ecf3b6b74</td>\n      <td>-1.3260</td>\n      <td>0.3478</td>\n      <td>-0.3743</td>\n      <td>0.9905</td>\n      <td>-0.7178</td>\n      <td>...</td>\n      <td>0.0423</td>\n      <td>-0.3195</td>\n      <td>-0.8086</td>\n      <td>-0.9798</td>\n      <td>-0.2084</td>\n      <td>-0.1224</td>\n      <td>-0.2715</td>\n      <td>0.3689</td>\n      <td>1</td>\n      <td>True</td>\n    </tr>\n    <tr>\n      <th>23811</th>\n      <td>id_fffc1c3f4</td>\n      <td>com_controle</td>\n      <td>48</td>\n      <td>D2</td>\n      <td>cacb2b860</td>\n      <td>0.3942</td>\n      <td>0.3756</td>\n      <td>0.3109</td>\n      <td>-0.7389</td>\n      <td>0.5505</td>\n      <td>...</td>\n      <td>0.7343</td>\n      <td>0.2807</td>\n      <td>0.4116</td>\n      <td>0.6422</td>\n      <td>0.2256</td>\n      <td>0.7592</td>\n      <td>0.6656</td>\n      <td>0.3808</td>\n      <td>0</td>\n      <td>False</td>\n    </tr>\n    <tr>\n      <th>23812</th>\n      <td>id_fffcb9e7c</td>\n      <td>com_droga</td>\n      <td>24</td>\n      <td>D1</td>\n      <td>8b87a7a83</td>\n      <td>0.6660</td>\n      <td>0.2324</td>\n      <td>0.4392</td>\n      <td>0.2044</td>\n      <td>0.8531</td>\n      <td>...</td>\n      <td>-0.2012</td>\n      <td>0.1506</td>\n      <td>1.5230</td>\n      <td>0.7101</td>\n      <td>0.1732</td>\n      <td>0.7015</td>\n      <td>-0.6290</td>\n      <td>0.0740</td>\n      <td>1</td>\n      <td>True</td>\n    </tr>\n    <tr>\n      <th>23813</th>\n      <td>id_ffffdd77b</td>\n      <td>com_droga</td>\n      <td>72</td>\n      <td>D1</td>\n      <td>972f41291</td>\n      <td>-0.8598</td>\n      <td>1.0240</td>\n      <td>-0.1361</td>\n      <td>0.7952</td>\n      <td>-0.3611</td>\n      <td>...</td>\n      <td>-6.6300</td>\n      <td>-4.0950</td>\n      <td>-7.3860</td>\n      <td>-1.4160</td>\n      <td>-3.5770</td>\n      <td>-0.4775</td>\n      <td>-2.1500</td>\n      <td>-4.2520</td>\n      <td>0</td>\n      <td>False</td>\n    </tr>\n  </tbody>\n</table>\n<p>23814 rows × 879 columns</p>\n</div>"
     },
     "metadata": {},
     "execution_count": 9
    }
   ],
   "source": [
    "dados_merge = pd.merge(dados, dados_resultados[['id','n_moa','ativo_moa']], on='id')\n",
    "dados_merge"
   ]
  },
  {
   "source": [
    "dados_merge.query('tratamento == \"com_controle\"')['ativo_moa'].value_counts()"
   ],
   "cell_type": "code",
   "metadata": {},
   "execution_count": 10,
   "outputs": [
    {
     "output_type": "execute_result",
     "data": {
      "text/plain": [
       "False    1866\n",
       "Name: ativo_moa, dtype: int64"
      ]
     },
     "metadata": {},
     "execution_count": 10
    }
   ]
  },
  {
   "cell_type": "code",
   "execution_count": 11,
   "metadata": {},
   "outputs": [
    {
     "output_type": "execute_result",
     "data": {
      "text/plain": [
       "True     14447\n",
       "False     7501\n",
       "Name: ativo_moa, dtype: int64"
      ]
     },
     "metadata": {},
     "execution_count": 11
    }
   ],
   "source": [
    "dados_merge.query('tratamento == \"com_droga\"')['ativo_moa'].value_counts()"
   ]
  },
  {
   "cell_type": "code",
   "execution_count": 16,
   "metadata": {},
   "outputs": [
    {
     "output_type": "execute_result",
     "data": {
      "text/plain": [
       "<Figure size 864x576 with 0 Axes>"
      ]
     },
     "metadata": {},
     "execution_count": 16
    },
    {
     "output_type": "display_data",
     "data": {
      "text/plain": "<Figure size 864x576 with 0 Axes>"
     },
     "metadata": {}
    }
   ],
   "source": [
    "import seaborn as sns\n",
    "import matplotlib.pyplot as plt\n",
    "sns.set()"
   ]
  },
  {
   "cell_type": "code",
   "execution_count": 17,
   "metadata": {},
   "outputs": [
    {
     "output_type": "execute_result",
     "data": {
      "text/plain": [
       "<AxesSubplot:xlabel='droga', ylabel='g-0'>"
      ]
     },
     "metadata": {},
     "execution_count": 17
    },
    {
     "output_type": "display_data",
     "data": {
      "text/plain": "<Figure size 864x576 with 1 Axes>",
      "image/svg+xml": "<?xml version=\"1.0\" encoding=\"utf-8\" standalone=\"no\"?>\n<!DOCTYPE svg PUBLIC \"-//W3C//DTD SVG 1.1//EN\"\n  \"http://www.w3.org/Graphics/SVG/1.1/DTD/svg11.dtd\">\n<svg height=\"483.954844pt\" version=\"1.1\" viewBox=\"0 0 721.192344 483.954844\" width=\"721.192344pt\" xmlns=\"http://www.w3.org/2000/svg\" xmlns:xlink=\"http://www.w3.org/1999/xlink\">\n <metadata>\n  <rdf:RDF xmlns:cc=\"http://creativecommons.org/ns#\" xmlns:dc=\"http://purl.org/dc/elements/1.1/\" xmlns:rdf=\"http://www.w3.org/1999/02/22-rdf-syntax-ns#\">\n   <cc:Work>\n    <dc:type rdf:resource=\"http://purl.org/dc/dcmitype/StillImage\"/>\n    <dc:date>2021-05-11T21:10:14.680364</dc:date>\n    <dc:format>image/svg+xml</dc:format>\n    <dc:creator>\n     <cc:Agent>\n      <dc:title>Matplotlib v3.4.2, https://matplotlib.org/</dc:title>\n     </cc:Agent>\n    </dc:creator>\n   </cc:Work>\n  </rdf:RDF>\n </metadata>\n <defs>\n  <style type=\"text/css\">*{stroke-linecap:butt;stroke-linejoin:round;}</style>\n </defs>\n <g id=\"figure_1\">\n  <g id=\"patch_1\">\n   <path d=\"M 0 483.954844 \nL 721.192344 483.954844 \nL 721.192344 0 \nL 0 0 \nz\n\" style=\"fill:#ffffff;\"/>\n  </g>\n  <g id=\"axes_1\">\n   <g id=\"patch_2\">\n    <path d=\"M 44.392344 442.08 \nL 713.992344 442.08 \nL 713.992344 7.2 \nL 44.392344 7.2 \nz\n\" style=\"fill:#eaeaf2;\"/>\n   </g>\n   <g id=\"matplotlib.axis_1\">\n    <g id=\"xtick_1\">\n     <g id=\"text_1\">\n      <!-- 8b87a7a83 -->\n      <g style=\"fill:#262626;\" transform=\"translate(72.665703 459.453594)scale(0.11 -0.11)\">\n       <defs>\n        <path d=\"M 1131 2484 \nQ 781 2613 612 2850 \nQ 444 3088 444 3419 \nQ 444 3919 803 4259 \nQ 1163 4600 1759 4600 \nQ 2359 4600 2725 4251 \nQ 3091 3903 3091 3403 \nQ 3091 3084 2923 2848 \nQ 2756 2613 2416 2484 \nQ 2838 2347 3058 2040 \nQ 3278 1734 3278 1309 \nQ 3278 722 2862 322 \nQ 2447 -78 1769 -78 \nQ 1091 -78 675 323 \nQ 259 725 259 1325 \nQ 259 1772 486 2073 \nQ 713 2375 1131 2484 \nz\nM 1019 3438 \nQ 1019 3113 1228 2906 \nQ 1438 2700 1772 2700 \nQ 2097 2700 2305 2904 \nQ 2513 3109 2513 3406 \nQ 2513 3716 2298 3927 \nQ 2084 4138 1766 4138 \nQ 1444 4138 1231 3931 \nQ 1019 3725 1019 3438 \nz\nM 838 1322 \nQ 838 1081 952 856 \nQ 1066 631 1291 507 \nQ 1516 384 1775 384 \nQ 2178 384 2440 643 \nQ 2703 903 2703 1303 \nQ 2703 1709 2433 1975 \nQ 2163 2241 1756 2241 \nQ 1359 2241 1098 1978 \nQ 838 1716 838 1322 \nz\n\" id=\"ArialMT-38\" transform=\"scale(0.015625)\"/>\n        <path d=\"M 941 0 \nL 419 0 \nL 419 4581 \nL 981 4581 \nL 981 2947 \nQ 1338 3394 1891 3394 \nQ 2197 3394 2470 3270 \nQ 2744 3147 2920 2923 \nQ 3097 2700 3197 2384 \nQ 3297 2069 3297 1709 \nQ 3297 856 2875 390 \nQ 2453 -75 1863 -75 \nQ 1275 -75 941 416 \nL 941 0 \nz\nM 934 1684 \nQ 934 1088 1097 822 \nQ 1363 388 1816 388 \nQ 2184 388 2453 708 \nQ 2722 1028 2722 1663 \nQ 2722 2313 2464 2622 \nQ 2206 2931 1841 2931 \nQ 1472 2931 1203 2611 \nQ 934 2291 934 1684 \nz\n\" id=\"ArialMT-62\" transform=\"scale(0.015625)\"/>\n        <path d=\"M 303 3981 \nL 303 4522 \nL 3269 4522 \nL 3269 4084 \nQ 2831 3619 2401 2847 \nQ 1972 2075 1738 1259 \nQ 1569 684 1522 0 \nL 944 0 \nQ 953 541 1156 1306 \nQ 1359 2072 1739 2783 \nQ 2119 3494 2547 3981 \nL 303 3981 \nz\n\" id=\"ArialMT-37\" transform=\"scale(0.015625)\"/>\n        <path d=\"M 2588 409 \nQ 2275 144 1986 34 \nQ 1697 -75 1366 -75 \nQ 819 -75 525 192 \nQ 231 459 231 875 \nQ 231 1119 342 1320 \nQ 453 1522 633 1644 \nQ 813 1766 1038 1828 \nQ 1203 1872 1538 1913 \nQ 2219 1994 2541 2106 \nQ 2544 2222 2544 2253 \nQ 2544 2597 2384 2738 \nQ 2169 2928 1744 2928 \nQ 1347 2928 1158 2789 \nQ 969 2650 878 2297 \nL 328 2372 \nQ 403 2725 575 2942 \nQ 747 3159 1072 3276 \nQ 1397 3394 1825 3394 \nQ 2250 3394 2515 3294 \nQ 2781 3194 2906 3042 \nQ 3031 2891 3081 2659 \nQ 3109 2516 3109 2141 \nL 3109 1391 \nQ 3109 606 3145 398 \nQ 3181 191 3288 0 \nL 2700 0 \nQ 2613 175 2588 409 \nz\nM 2541 1666 \nQ 2234 1541 1622 1453 \nQ 1275 1403 1131 1340 \nQ 988 1278 909 1158 \nQ 831 1038 831 891 \nQ 831 666 1001 516 \nQ 1172 366 1500 366 \nQ 1825 366 2078 508 \nQ 2331 650 2450 897 \nQ 2541 1088 2541 1459 \nL 2541 1666 \nz\n\" id=\"ArialMT-61\" transform=\"scale(0.015625)\"/>\n        <path d=\"M 269 1209 \nL 831 1284 \nQ 928 806 1161 595 \nQ 1394 384 1728 384 \nQ 2125 384 2398 659 \nQ 2672 934 2672 1341 \nQ 2672 1728 2419 1979 \nQ 2166 2231 1775 2231 \nQ 1616 2231 1378 2169 \nL 1441 2663 \nQ 1497 2656 1531 2656 \nQ 1891 2656 2178 2843 \nQ 2466 3031 2466 3422 \nQ 2466 3731 2256 3934 \nQ 2047 4138 1716 4138 \nQ 1388 4138 1169 3931 \nQ 950 3725 888 3313 \nL 325 3413 \nQ 428 3978 793 4289 \nQ 1159 4600 1703 4600 \nQ 2078 4600 2393 4439 \nQ 2709 4278 2876 4000 \nQ 3044 3722 3044 3409 \nQ 3044 3113 2884 2869 \nQ 2725 2625 2413 2481 \nQ 2819 2388 3044 2092 \nQ 3269 1797 3269 1353 \nQ 3269 753 2831 336 \nQ 2394 -81 1725 -81 \nQ 1122 -81 723 278 \nQ 325 638 269 1209 \nz\n\" id=\"ArialMT-33\" transform=\"scale(0.015625)\"/>\n       </defs>\n       <use xlink:href=\"#ArialMT-38\"/>\n       <use x=\"55.615234\" xlink:href=\"#ArialMT-62\"/>\n       <use x=\"111.230469\" xlink:href=\"#ArialMT-38\"/>\n       <use x=\"166.845703\" xlink:href=\"#ArialMT-37\"/>\n       <use x=\"222.460938\" xlink:href=\"#ArialMT-61\"/>\n       <use x=\"278.076172\" xlink:href=\"#ArialMT-37\"/>\n       <use x=\"333.691406\" xlink:href=\"#ArialMT-61\"/>\n       <use x=\"389.306641\" xlink:href=\"#ArialMT-38\"/>\n       <use x=\"444.921875\" xlink:href=\"#ArialMT-33\"/>\n      </g>\n     </g>\n    </g>\n    <g id=\"xtick_2\">\n     <g id=\"text_2\">\n      <!-- 87d714366 -->\n      <g style=\"fill:#262626;\" transform=\"translate(184.265703 459.453594)scale(0.11 -0.11)\">\n       <defs>\n        <path d=\"M 2575 0 \nL 2575 419 \nQ 2259 -75 1647 -75 \nQ 1250 -75 917 144 \nQ 584 363 401 755 \nQ 219 1147 219 1656 \nQ 219 2153 384 2558 \nQ 550 2963 881 3178 \nQ 1213 3394 1622 3394 \nQ 1922 3394 2156 3267 \nQ 2391 3141 2538 2938 \nL 2538 4581 \nL 3097 4581 \nL 3097 0 \nL 2575 0 \nz\nM 797 1656 \nQ 797 1019 1065 703 \nQ 1334 388 1700 388 \nQ 2069 388 2326 689 \nQ 2584 991 2584 1609 \nQ 2584 2291 2321 2609 \nQ 2059 2928 1675 2928 \nQ 1300 2928 1048 2622 \nQ 797 2316 797 1656 \nz\n\" id=\"ArialMT-64\" transform=\"scale(0.015625)\"/>\n        <path d=\"M 2384 0 \nL 1822 0 \nL 1822 3584 \nQ 1619 3391 1289 3197 \nQ 959 3003 697 2906 \nL 697 3450 \nQ 1169 3672 1522 3987 \nQ 1875 4303 2022 4600 \nL 2384 4600 \nL 2384 0 \nz\n\" id=\"ArialMT-31\" transform=\"scale(0.015625)\"/>\n        <path d=\"M 2069 0 \nL 2069 1097 \nL 81 1097 \nL 81 1613 \nL 2172 4581 \nL 2631 4581 \nL 2631 1613 \nL 3250 1613 \nL 3250 1097 \nL 2631 1097 \nL 2631 0 \nL 2069 0 \nz\nM 2069 1613 \nL 2069 3678 \nL 634 1613 \nL 2069 1613 \nz\n\" id=\"ArialMT-34\" transform=\"scale(0.015625)\"/>\n        <path d=\"M 3184 3459 \nL 2625 3416 \nQ 2550 3747 2413 3897 \nQ 2184 4138 1850 4138 \nQ 1581 4138 1378 3988 \nQ 1113 3794 959 3422 \nQ 806 3050 800 2363 \nQ 1003 2672 1297 2822 \nQ 1591 2972 1913 2972 \nQ 2475 2972 2870 2558 \nQ 3266 2144 3266 1488 \nQ 3266 1056 3080 686 \nQ 2894 316 2569 119 \nQ 2244 -78 1831 -78 \nQ 1128 -78 684 439 \nQ 241 956 241 2144 \nQ 241 3472 731 4075 \nQ 1159 4600 1884 4600 \nQ 2425 4600 2770 4297 \nQ 3116 3994 3184 3459 \nz\nM 888 1484 \nQ 888 1194 1011 928 \nQ 1134 663 1356 523 \nQ 1578 384 1822 384 \nQ 2178 384 2434 671 \nQ 2691 959 2691 1453 \nQ 2691 1928 2437 2201 \nQ 2184 2475 1800 2475 \nQ 1419 2475 1153 2201 \nQ 888 1928 888 1484 \nz\n\" id=\"ArialMT-36\" transform=\"scale(0.015625)\"/>\n       </defs>\n       <use xlink:href=\"#ArialMT-38\"/>\n       <use x=\"55.615234\" xlink:href=\"#ArialMT-37\"/>\n       <use x=\"111.230469\" xlink:href=\"#ArialMT-64\"/>\n       <use x=\"166.845703\" xlink:href=\"#ArialMT-37\"/>\n       <use x=\"222.460938\" xlink:href=\"#ArialMT-31\"/>\n       <use x=\"278.076172\" xlink:href=\"#ArialMT-34\"/>\n       <use x=\"333.691406\" xlink:href=\"#ArialMT-33\"/>\n       <use x=\"389.306641\" xlink:href=\"#ArialMT-36\"/>\n       <use x=\"444.921875\" xlink:href=\"#ArialMT-36\"/>\n      </g>\n     </g>\n    </g>\n    <g id=\"xtick_3\">\n     <g id=\"text_3\">\n      <!-- cacb2b860 -->\n      <g style=\"fill:#262626;\" transform=\"translate(296.482734 459.453594)scale(0.11 -0.11)\">\n       <defs>\n        <path d=\"M 2588 1216 \nL 3141 1144 \nQ 3050 572 2676 248 \nQ 2303 -75 1759 -75 \nQ 1078 -75 664 370 \nQ 250 816 250 1647 \nQ 250 2184 428 2587 \nQ 606 2991 970 3192 \nQ 1334 3394 1763 3394 \nQ 2303 3394 2647 3120 \nQ 2991 2847 3088 2344 \nL 2541 2259 \nQ 2463 2594 2264 2762 \nQ 2066 2931 1784 2931 \nQ 1359 2931 1093 2626 \nQ 828 2322 828 1663 \nQ 828 994 1084 691 \nQ 1341 388 1753 388 \nQ 2084 388 2306 591 \nQ 2528 794 2588 1216 \nz\n\" id=\"ArialMT-63\" transform=\"scale(0.015625)\"/>\n        <path d=\"M 3222 541 \nL 3222 0 \nL 194 0 \nQ 188 203 259 391 \nQ 375 700 629 1000 \nQ 884 1300 1366 1694 \nQ 2113 2306 2375 2664 \nQ 2638 3022 2638 3341 \nQ 2638 3675 2398 3904 \nQ 2159 4134 1775 4134 \nQ 1369 4134 1125 3890 \nQ 881 3647 878 3216 \nL 300 3275 \nQ 359 3922 746 4261 \nQ 1134 4600 1788 4600 \nQ 2447 4600 2831 4234 \nQ 3216 3869 3216 3328 \nQ 3216 3053 3103 2787 \nQ 2991 2522 2730 2228 \nQ 2469 1934 1863 1422 \nQ 1356 997 1212 845 \nQ 1069 694 975 541 \nL 3222 541 \nz\n\" id=\"ArialMT-32\" transform=\"scale(0.015625)\"/>\n        <path d=\"M 266 2259 \nQ 266 3072 433 3567 \nQ 600 4063 929 4331 \nQ 1259 4600 1759 4600 \nQ 2128 4600 2406 4451 \nQ 2684 4303 2865 4023 \nQ 3047 3744 3150 3342 \nQ 3253 2941 3253 2259 \nQ 3253 1453 3087 958 \nQ 2922 463 2592 192 \nQ 2263 -78 1759 -78 \nQ 1097 -78 719 397 \nQ 266 969 266 2259 \nz\nM 844 2259 \nQ 844 1131 1108 757 \nQ 1372 384 1759 384 \nQ 2147 384 2411 759 \nQ 2675 1134 2675 2259 \nQ 2675 3391 2411 3762 \nQ 2147 4134 1753 4134 \nQ 1366 4134 1134 3806 \nQ 844 3388 844 2259 \nz\n\" id=\"ArialMT-30\" transform=\"scale(0.015625)\"/>\n       </defs>\n       <use xlink:href=\"#ArialMT-63\"/>\n       <use x=\"50\" xlink:href=\"#ArialMT-61\"/>\n       <use x=\"105.615234\" xlink:href=\"#ArialMT-63\"/>\n       <use x=\"155.615234\" xlink:href=\"#ArialMT-62\"/>\n       <use x=\"211.230469\" xlink:href=\"#ArialMT-32\"/>\n       <use x=\"266.845703\" xlink:href=\"#ArialMT-62\"/>\n       <use x=\"322.460938\" xlink:href=\"#ArialMT-38\"/>\n       <use x=\"378.076172\" xlink:href=\"#ArialMT-36\"/>\n       <use x=\"433.691406\" xlink:href=\"#ArialMT-30\"/>\n      </g>\n     </g>\n    </g>\n    <g id=\"xtick_4\">\n     <g id=\"text_4\">\n      <!-- 5628cb3ee -->\n      <g style=\"fill:#262626;\" transform=\"translate(407.774219 459.453594)scale(0.11 -0.11)\">\n       <defs>\n        <path d=\"M 266 1200 \nL 856 1250 \nQ 922 819 1161 601 \nQ 1400 384 1738 384 \nQ 2144 384 2425 690 \nQ 2706 997 2706 1503 \nQ 2706 1984 2436 2262 \nQ 2166 2541 1728 2541 \nQ 1456 2541 1237 2417 \nQ 1019 2294 894 2097 \nL 366 2166 \nL 809 4519 \nL 3088 4519 \nL 3088 3981 \nL 1259 3981 \nL 1013 2750 \nQ 1425 3038 1878 3038 \nQ 2478 3038 2890 2622 \nQ 3303 2206 3303 1553 \nQ 3303 931 2941 478 \nQ 2500 -78 1738 -78 \nQ 1113 -78 717 272 \nQ 322 622 266 1200 \nz\n\" id=\"ArialMT-35\" transform=\"scale(0.015625)\"/>\n        <path d=\"M 2694 1069 \nL 3275 997 \nQ 3138 488 2766 206 \nQ 2394 -75 1816 -75 \nQ 1088 -75 661 373 \nQ 234 822 234 1631 \nQ 234 2469 665 2931 \nQ 1097 3394 1784 3394 \nQ 2450 3394 2872 2941 \nQ 3294 2488 3294 1666 \nQ 3294 1616 3291 1516 \nL 816 1516 \nQ 847 969 1125 678 \nQ 1403 388 1819 388 \nQ 2128 388 2347 550 \nQ 2566 713 2694 1069 \nz\nM 847 1978 \nL 2700 1978 \nQ 2663 2397 2488 2606 \nQ 2219 2931 1791 2931 \nQ 1403 2931 1139 2672 \nQ 875 2413 847 1978 \nz\n\" id=\"ArialMT-65\" transform=\"scale(0.015625)\"/>\n       </defs>\n       <use xlink:href=\"#ArialMT-35\"/>\n       <use x=\"55.615234\" xlink:href=\"#ArialMT-36\"/>\n       <use x=\"111.230469\" xlink:href=\"#ArialMT-32\"/>\n       <use x=\"166.845703\" xlink:href=\"#ArialMT-38\"/>\n       <use x=\"222.460938\" xlink:href=\"#ArialMT-63\"/>\n       <use x=\"272.460938\" xlink:href=\"#ArialMT-62\"/>\n       <use x=\"328.076172\" xlink:href=\"#ArialMT-33\"/>\n       <use x=\"383.691406\" xlink:href=\"#ArialMT-65\"/>\n       <use x=\"439.306641\" xlink:href=\"#ArialMT-65\"/>\n      </g>\n     </g>\n    </g>\n    <g id=\"xtick_5\">\n     <g id=\"text_5\">\n      <!-- 9f80f3f77 -->\n      <g style=\"fill:#262626;\" transform=\"translate(523.657344 459.453594)scale(0.11 -0.11)\">\n       <defs>\n        <path d=\"M 350 1059 \nL 891 1109 \nQ 959 728 1153 556 \nQ 1347 384 1650 384 \nQ 1909 384 2104 503 \nQ 2300 622 2425 820 \nQ 2550 1019 2634 1356 \nQ 2719 1694 2719 2044 \nQ 2719 2081 2716 2156 \nQ 2547 1888 2255 1720 \nQ 1963 1553 1622 1553 \nQ 1053 1553 659 1965 \nQ 266 2378 266 3053 \nQ 266 3750 677 4175 \nQ 1088 4600 1706 4600 \nQ 2153 4600 2523 4359 \nQ 2894 4119 3086 3673 \nQ 3278 3228 3278 2384 \nQ 3278 1506 3087 986 \nQ 2897 466 2520 194 \nQ 2144 -78 1638 -78 \nQ 1100 -78 759 220 \nQ 419 519 350 1059 \nz\nM 2653 3081 \nQ 2653 3566 2395 3850 \nQ 2138 4134 1775 4134 \nQ 1400 4134 1122 3828 \nQ 844 3522 844 3034 \nQ 844 2597 1108 2323 \nQ 1372 2050 1759 2050 \nQ 2150 2050 2401 2323 \nQ 2653 2597 2653 3081 \nz\n\" id=\"ArialMT-39\" transform=\"scale(0.015625)\"/>\n        <path d=\"M 556 0 \nL 556 2881 \nL 59 2881 \nL 59 3319 \nL 556 3319 \nL 556 3672 \nQ 556 4006 616 4169 \nQ 697 4388 901 4523 \nQ 1106 4659 1475 4659 \nQ 1713 4659 2000 4603 \nL 1916 4113 \nQ 1741 4144 1584 4144 \nQ 1328 4144 1222 4034 \nQ 1116 3925 1116 3625 \nL 1116 3319 \nL 1763 3319 \nL 1763 2881 \nL 1116 2881 \nL 1116 0 \nL 556 0 \nz\n\" id=\"ArialMT-66\" transform=\"scale(0.015625)\"/>\n       </defs>\n       <use xlink:href=\"#ArialMT-39\"/>\n       <use x=\"55.615234\" xlink:href=\"#ArialMT-66\"/>\n       <use x=\"83.398438\" xlink:href=\"#ArialMT-38\"/>\n       <use x=\"139.013672\" xlink:href=\"#ArialMT-30\"/>\n       <use x=\"194.628906\" xlink:href=\"#ArialMT-66\"/>\n       <use x=\"222.412109\" xlink:href=\"#ArialMT-33\"/>\n       <use x=\"278.027344\" xlink:href=\"#ArialMT-66\"/>\n       <use x=\"305.810547\" xlink:href=\"#ArialMT-37\"/>\n       <use x=\"361.425781\" xlink:href=\"#ArialMT-37\"/>\n      </g>\n     </g>\n    </g>\n    <g id=\"xtick_6\">\n     <g id=\"text_6\">\n      <!-- d08af5d4b -->\n      <g style=\"fill:#262626;\" transform=\"translate(632.19625 459.453594)scale(0.11 -0.11)\">\n       <use xlink:href=\"#ArialMT-64\"/>\n       <use x=\"55.615234\" xlink:href=\"#ArialMT-30\"/>\n       <use x=\"111.230469\" xlink:href=\"#ArialMT-38\"/>\n       <use x=\"166.845703\" xlink:href=\"#ArialMT-61\"/>\n       <use x=\"222.460938\" xlink:href=\"#ArialMT-66\"/>\n       <use x=\"250.244141\" xlink:href=\"#ArialMT-35\"/>\n       <use x=\"305.859375\" xlink:href=\"#ArialMT-64\"/>\n       <use x=\"361.474609\" xlink:href=\"#ArialMT-34\"/>\n       <use x=\"417.089844\" xlink:href=\"#ArialMT-62\"/>\n      </g>\n     </g>\n    </g>\n    <g id=\"text_7\">\n     <!-- droga -->\n     <g style=\"fill:#262626;\" transform=\"translate(363.848281 474.229219)scale(0.12 -0.12)\">\n      <defs>\n       <path d=\"M 416 0 \nL 416 3319 \nL 922 3319 \nL 922 2816 \nQ 1116 3169 1280 3281 \nQ 1444 3394 1641 3394 \nQ 1925 3394 2219 3213 \nL 2025 2691 \nQ 1819 2813 1613 2813 \nQ 1428 2813 1281 2702 \nQ 1134 2591 1072 2394 \nQ 978 2094 978 1738 \nL 978 0 \nL 416 0 \nz\n\" id=\"ArialMT-72\" transform=\"scale(0.015625)\"/>\n       <path d=\"M 213 1659 \nQ 213 2581 725 3025 \nQ 1153 3394 1769 3394 \nQ 2453 3394 2887 2945 \nQ 3322 2497 3322 1706 \nQ 3322 1066 3130 698 \nQ 2938 331 2570 128 \nQ 2203 -75 1769 -75 \nQ 1072 -75 642 372 \nQ 213 819 213 1659 \nz\nM 791 1659 \nQ 791 1022 1069 705 \nQ 1347 388 1769 388 \nQ 2188 388 2466 706 \nQ 2744 1025 2744 1678 \nQ 2744 2294 2464 2611 \nQ 2184 2928 1769 2928 \nQ 1347 2928 1069 2612 \nQ 791 2297 791 1659 \nz\n\" id=\"ArialMT-6f\" transform=\"scale(0.015625)\"/>\n       <path d=\"M 319 -275 \nL 866 -356 \nQ 900 -609 1056 -725 \nQ 1266 -881 1628 -881 \nQ 2019 -881 2231 -725 \nQ 2444 -569 2519 -288 \nQ 2563 -116 2559 434 \nQ 2191 0 1641 0 \nQ 956 0 581 494 \nQ 206 988 206 1678 \nQ 206 2153 378 2554 \nQ 550 2956 876 3175 \nQ 1203 3394 1644 3394 \nQ 2231 3394 2613 2919 \nL 2613 3319 \nL 3131 3319 \nL 3131 450 \nQ 3131 -325 2973 -648 \nQ 2816 -972 2473 -1159 \nQ 2131 -1347 1631 -1347 \nQ 1038 -1347 672 -1080 \nQ 306 -813 319 -275 \nz\nM 784 1719 \nQ 784 1066 1043 766 \nQ 1303 466 1694 466 \nQ 2081 466 2343 764 \nQ 2606 1063 2606 1700 \nQ 2606 2309 2336 2618 \nQ 2066 2928 1684 2928 \nQ 1309 2928 1046 2623 \nQ 784 2319 784 1719 \nz\n\" id=\"ArialMT-67\" transform=\"scale(0.015625)\"/>\n      </defs>\n      <use xlink:href=\"#ArialMT-64\"/>\n      <use x=\"55.615234\" xlink:href=\"#ArialMT-72\"/>\n      <use x=\"88.916016\" xlink:href=\"#ArialMT-6f\"/>\n      <use x=\"144.53125\" xlink:href=\"#ArialMT-67\"/>\n      <use x=\"200.146484\" xlink:href=\"#ArialMT-61\"/>\n     </g>\n    </g>\n   </g>\n   <g id=\"matplotlib.axis_2\">\n    <g id=\"ytick_1\">\n     <g id=\"line2d_1\">\n      <path clip-path=\"url(#pc0f5ac354e)\" d=\"M 44.392344 399.457774 \nL 713.992344 399.457774 \n\" style=\"fill:none;stroke:#ffffff;stroke-linecap:round;\"/>\n     </g>\n     <g id=\"text_8\">\n      <!-- −4 -->\n      <g style=\"fill:#262626;\" transform=\"translate(22.350625 403.394571)scale(0.11 -0.11)\">\n       <defs>\n        <path d=\"M 3381 1997 \nL 356 1997 \nL 356 2522 \nL 3381 2522 \nL 3381 1997 \nz\n\" id=\"ArialMT-2212\" transform=\"scale(0.015625)\"/>\n       </defs>\n       <use xlink:href=\"#ArialMT-2212\"/>\n       <use x=\"58.398438\" xlink:href=\"#ArialMT-34\"/>\n      </g>\n     </g>\n    </g>\n    <g id=\"ytick_2\">\n     <g id=\"line2d_2\">\n      <path clip-path=\"url(#pc0f5ac354e)\" d=\"M 44.392344 346.244846 \nL 713.992344 346.244846 \n\" style=\"fill:none;stroke:#ffffff;stroke-linecap:round;\"/>\n     </g>\n     <g id=\"text_9\">\n      <!-- −2 -->\n      <g style=\"fill:#262626;\" transform=\"translate(22.350625 350.181642)scale(0.11 -0.11)\">\n       <use xlink:href=\"#ArialMT-2212\"/>\n       <use x=\"58.398438\" xlink:href=\"#ArialMT-32\"/>\n      </g>\n     </g>\n    </g>\n    <g id=\"ytick_3\">\n     <g id=\"line2d_3\">\n      <path clip-path=\"url(#pc0f5ac354e)\" d=\"M 44.392344 293.031917 \nL 713.992344 293.031917 \n\" style=\"fill:none;stroke:#ffffff;stroke-linecap:round;\"/>\n     </g>\n     <g id=\"text_10\">\n      <!-- 0 -->\n      <g style=\"fill:#262626;\" transform=\"translate(28.775313 296.968714)scale(0.11 -0.11)\">\n       <use xlink:href=\"#ArialMT-30\"/>\n      </g>\n     </g>\n    </g>\n    <g id=\"ytick_4\">\n     <g id=\"line2d_4\">\n      <path clip-path=\"url(#pc0f5ac354e)\" d=\"M 44.392344 239.818988 \nL 713.992344 239.818988 \n\" style=\"fill:none;stroke:#ffffff;stroke-linecap:round;\"/>\n     </g>\n     <g id=\"text_11\">\n      <!-- 2 -->\n      <g style=\"fill:#262626;\" transform=\"translate(28.775313 243.755785)scale(0.11 -0.11)\">\n       <use xlink:href=\"#ArialMT-32\"/>\n      </g>\n     </g>\n    </g>\n    <g id=\"ytick_5\">\n     <g id=\"line2d_5\">\n      <path clip-path=\"url(#pc0f5ac354e)\" d=\"M 44.392344 186.606059 \nL 713.992344 186.606059 \n\" style=\"fill:none;stroke:#ffffff;stroke-linecap:round;\"/>\n     </g>\n     <g id=\"text_12\">\n      <!-- 4 -->\n      <g style=\"fill:#262626;\" transform=\"translate(28.775313 190.542856)scale(0.11 -0.11)\">\n       <use xlink:href=\"#ArialMT-34\"/>\n      </g>\n     </g>\n    </g>\n    <g id=\"ytick_6\">\n     <g id=\"line2d_6\">\n      <path clip-path=\"url(#pc0f5ac354e)\" d=\"M 44.392344 133.39313 \nL 713.992344 133.39313 \n\" style=\"fill:none;stroke:#ffffff;stroke-linecap:round;\"/>\n     </g>\n     <g id=\"text_13\">\n      <!-- 6 -->\n      <g style=\"fill:#262626;\" transform=\"translate(28.775313 137.329927)scale(0.11 -0.11)\">\n       <use xlink:href=\"#ArialMT-36\"/>\n      </g>\n     </g>\n    </g>\n    <g id=\"ytick_7\">\n     <g id=\"line2d_7\">\n      <path clip-path=\"url(#pc0f5ac354e)\" d=\"M 44.392344 80.180202 \nL 713.992344 80.180202 \n\" style=\"fill:none;stroke:#ffffff;stroke-linecap:round;\"/>\n     </g>\n     <g id=\"text_14\">\n      <!-- 8 -->\n      <g style=\"fill:#262626;\" transform=\"translate(28.775313 84.116998)scale(0.11 -0.11)\">\n       <use xlink:href=\"#ArialMT-38\"/>\n      </g>\n     </g>\n    </g>\n    <g id=\"ytick_8\">\n     <g id=\"line2d_8\">\n      <path clip-path=\"url(#pc0f5ac354e)\" d=\"M 44.392344 26.967273 \nL 713.992344 26.967273 \n\" style=\"fill:none;stroke:#ffffff;stroke-linecap:round;\"/>\n     </g>\n     <g id=\"text_15\">\n      <!-- 10 -->\n      <g style=\"fill:#262626;\" transform=\"translate(22.658281 30.90407)scale(0.11 -0.11)\">\n       <use xlink:href=\"#ArialMT-31\"/>\n       <use x=\"55.615234\" xlink:href=\"#ArialMT-30\"/>\n      </g>\n     </g>\n    </g>\n    <g id=\"text_16\">\n     <!-- g-0 -->\n     <g style=\"fill:#262626;\" transform=\"translate(15.825 233.310937)rotate(-90)scale(0.12 -0.12)\">\n      <defs>\n       <path d=\"M 203 1375 \nL 203 1941 \nL 1931 1941 \nL 1931 1375 \nL 203 1375 \nz\n\" id=\"ArialMT-2d\" transform=\"scale(0.015625)\"/>\n      </defs>\n      <use xlink:href=\"#ArialMT-67\"/>\n      <use x=\"55.615234\" xlink:href=\"#ArialMT-2d\"/>\n      <use x=\"88.916016\" xlink:href=\"#ArialMT-30\"/>\n     </g>\n    </g>\n   </g>\n   <g id=\"patch_3\">\n    <path clip-path=\"url(#pc0f5ac354e)\" d=\"M 100.638744 308.761658 \nL 144.385944 308.761658 \nL 144.385944 251.286374 \nL 100.638744 251.286374 \nL 100.638744 308.761658 \nz\n\" style=\"fill:#cc8963;stroke:#4c4c4c;stroke-linejoin:miter;stroke-width:1.5;\"/>\n   </g>\n   <g id=\"patch_4\">\n    <path clip-path=\"url(#pc0f5ac354e)\" d=\"M 212.238744 198.020232 \nL 255.985944 198.020232 \nL 255.985944 125.590785 \nL 212.238744 125.590785 \nL 212.238744 198.020232 \nz\n\" style=\"fill:#cc8963;stroke:#4c4c4c;stroke-linejoin:miter;stroke-width:1.5;\"/>\n   </g>\n   <g id=\"patch_5\">\n    <path clip-path=\"url(#pc0f5ac354e)\" d=\"M 279.198744 310.033447 \nL 322.945944 310.033447 \nL 322.945944 282.155194 \nL 279.198744 282.155194 \nL 279.198744 310.033447 \nz\n\" style=\"fill:#5875a4;stroke:#4c4c4c;stroke-linejoin:miter;stroke-width:1.5;\"/>\n   </g>\n   <g id=\"patch_6\">\n    <path clip-path=\"url(#pc0f5ac354e)\" d=\"M 435.438744 270.101135 \nL 479.185944 270.101135 \nL 479.185944 212.959762 \nL 435.438744 212.959762 \nL 435.438744 270.101135 \nz\n\" style=\"fill:#cc8963;stroke:#4c4c4c;stroke-linejoin:miter;stroke-width:1.5;\"/>\n   </g>\n   <g id=\"patch_7\">\n    <path clip-path=\"url(#pc0f5ac354e)\" d=\"M 547.038744 302.45127 \nL 590.785944 302.45127 \nL 590.785944 275.82219 \nL 547.038744 275.82219 \nL 547.038744 302.45127 \nz\n\" style=\"fill:#cc8963;stroke:#4c4c4c;stroke-linejoin:miter;stroke-width:1.5;\"/>\n   </g>\n   <g id=\"patch_8\">\n    <path clip-path=\"url(#pc0f5ac354e)\" d=\"M 658.638744 316.874635 \nL 702.385944 316.874635 \nL 702.385944 286.241282 \nL 658.638744 286.241282 \nL 658.638744 316.874635 \nz\n\" style=\"fill:#cc8963;stroke:#4c4c4c;stroke-linejoin:miter;stroke-width:1.5;\"/>\n   </g>\n   <g id=\"patch_9\">\n    <path clip-path=\"url(#pc0f5ac354e)\" d=\"M 100.192344 293.031917 \nL 100.192344 293.031917 \nL 100.192344 293.031917 \nL 100.192344 293.031917 \nz\n\" style=\"fill:#5875a4;stroke:#4c4c4c;stroke-linejoin:miter;stroke-width:0.75;\"/>\n   </g>\n   <g id=\"patch_10\">\n    <path clip-path=\"url(#pc0f5ac354e)\" d=\"M 100.192344 293.031917 \nL 100.192344 293.031917 \nL 100.192344 293.031917 \nL 100.192344 293.031917 \nz\n\" style=\"fill:#cc8963;stroke:#4c4c4c;stroke-linejoin:miter;stroke-width:0.75;\"/>\n   </g>\n   <g id=\"line2d_9\">\n    <path clip-path=\"url(#pc0f5ac354e)\" d=\"M 122.512344 308.761658 \nL 122.512344 363.459228 \n\" style=\"fill:none;stroke:#4c4c4c;stroke-linecap:round;stroke-width:1.5;\"/>\n   </g>\n   <g id=\"line2d_10\">\n    <path clip-path=\"url(#pc0f5ac354e)\" d=\"M 122.512344 251.286374 \nL 122.512344 167.609044 \n\" style=\"fill:none;stroke:#4c4c4c;stroke-linecap:round;stroke-width:1.5;\"/>\n   </g>\n   <g id=\"line2d_11\">\n    <path clip-path=\"url(#pc0f5ac354e)\" d=\"M 111.575544 363.459228 \nL 133.449144 363.459228 \n\" style=\"fill:none;stroke:#4c4c4c;stroke-linecap:round;stroke-width:1.5;\"/>\n   </g>\n   <g id=\"line2d_12\">\n    <path clip-path=\"url(#pc0f5ac354e)\" d=\"M 111.575544 167.609044 \nL 133.449144 167.609044 \n\" style=\"fill:none;stroke:#4c4c4c;stroke-linecap:round;stroke-width:1.5;\"/>\n   </g>\n   <g id=\"line2d_13\"/>\n   <g id=\"line2d_14\">\n    <path clip-path=\"url(#pc0f5ac354e)\" d=\"M 234.112344 198.020232 \nL 234.112344 264.775852 \n\" style=\"fill:none;stroke:#4c4c4c;stroke-linecap:round;stroke-width:1.5;\"/>\n   </g>\n   <g id=\"line2d_15\">\n    <path clip-path=\"url(#pc0f5ac354e)\" d=\"M 234.112344 125.590785 \nL 234.112344 26.967273 \n\" style=\"fill:none;stroke:#4c4c4c;stroke-linecap:round;stroke-width:1.5;\"/>\n   </g>\n   <g id=\"line2d_16\">\n    <path clip-path=\"url(#pc0f5ac354e)\" d=\"M 223.175544 264.775852 \nL 245.049144 264.775852 \n\" style=\"fill:none;stroke:#4c4c4c;stroke-linecap:round;stroke-width:1.5;\"/>\n   </g>\n   <g id=\"line2d_17\">\n    <path clip-path=\"url(#pc0f5ac354e)\" d=\"M 223.175544 26.967273 \nL 245.049144 26.967273 \n\" style=\"fill:none;stroke:#4c4c4c;stroke-linecap:round;stroke-width:1.5;\"/>\n   </g>\n   <g id=\"line2d_18\"/>\n   <g id=\"line2d_19\">\n    <path clip-path=\"url(#pc0f5ac354e)\" d=\"M 301.072344 310.033447 \nL 301.072344 349.836718 \n\" style=\"fill:none;stroke:#4c4c4c;stroke-linecap:round;stroke-width:1.5;\"/>\n   </g>\n   <g id=\"line2d_20\">\n    <path clip-path=\"url(#pc0f5ac354e)\" d=\"M 301.072344 282.155194 \nL 301.072344 240.510756 \n\" style=\"fill:none;stroke:#4c4c4c;stroke-linecap:round;stroke-width:1.5;\"/>\n   </g>\n   <g id=\"line2d_21\">\n    <path clip-path=\"url(#pc0f5ac354e)\" d=\"M 290.135544 349.836718 \nL 312.009144 349.836718 \n\" style=\"fill:none;stroke:#4c4c4c;stroke-linecap:round;stroke-width:1.5;\"/>\n   </g>\n   <g id=\"line2d_22\">\n    <path clip-path=\"url(#pc0f5ac354e)\" d=\"M 290.135544 240.510756 \nL 312.009144 240.510756 \n\" style=\"fill:none;stroke:#4c4c4c;stroke-linecap:round;stroke-width:1.5;\"/>\n   </g>\n   <g id=\"line2d_23\">\n    <defs>\n     <path d=\"M -0 3.535534 \nL 2.12132 0 \nL -0 -3.535534 \nL -2.12132 -0 \nz\n\" id=\"m39fb3ad1b7\" style=\"stroke:#4c4c4c;stroke-linejoin:miter;\"/>\n    </defs>\n    <g clip-path=\"url(#pc0f5ac354e)\">\n     <use style=\"fill:#4c4c4c;stroke:#4c4c4c;stroke-linejoin:miter;\" x=\"301.072344\" xlink:href=\"#m39fb3ad1b7\" y=\"358.084722\"/>\n     <use style=\"fill:#4c4c4c;stroke:#4c4c4c;stroke-linejoin:miter;\" x=\"301.072344\" xlink:href=\"#m39fb3ad1b7\" y=\"380.194694\"/>\n     <use style=\"fill:#4c4c4c;stroke:#4c4c4c;stroke-linejoin:miter;\" x=\"301.072344\" xlink:href=\"#m39fb3ad1b7\" y=\"422.312727\"/>\n     <use style=\"fill:#4c4c4c;stroke:#4c4c4c;stroke-linejoin:miter;\" x=\"301.072344\" xlink:href=\"#m39fb3ad1b7\" y=\"381.471804\"/>\n     <use style=\"fill:#4c4c4c;stroke:#4c4c4c;stroke-linejoin:miter;\" x=\"301.072344\" xlink:href=\"#m39fb3ad1b7\" y=\"356.089237\"/>\n     <use style=\"fill:#4c4c4c;stroke:#4c4c4c;stroke-linejoin:miter;\" x=\"301.072344\" xlink:href=\"#m39fb3ad1b7\" y=\"234.923398\"/>\n     <use style=\"fill:#4c4c4c;stroke:#4c4c4c;stroke-linejoin:miter;\" x=\"301.072344\" xlink:href=\"#m39fb3ad1b7\" y=\"231.650803\"/>\n     <use style=\"fill:#4c4c4c;stroke:#4c4c4c;stroke-linejoin:miter;\" x=\"301.072344\" xlink:href=\"#m39fb3ad1b7\" y=\"235.056431\"/>\n     <use style=\"fill:#4c4c4c;stroke:#4c4c4c;stroke-linejoin:miter;\" x=\"301.072344\" xlink:href=\"#m39fb3ad1b7\" y=\"201.957989\"/>\n     <use style=\"fill:#4c4c4c;stroke:#4c4c4c;stroke-linejoin:miter;\" x=\"301.072344\" xlink:href=\"#m39fb3ad1b7\" y=\"240.164872\"/>\n     <use style=\"fill:#4c4c4c;stroke:#4c4c4c;stroke-linejoin:miter;\" x=\"301.072344\" xlink:href=\"#m39fb3ad1b7\" y=\"196.53027\"/>\n     <use style=\"fill:#4c4c4c;stroke:#4c4c4c;stroke-linejoin:miter;\" x=\"301.072344\" xlink:href=\"#m39fb3ad1b7\" y=\"168.779728\"/>\n     <use style=\"fill:#4c4c4c;stroke:#4c4c4c;stroke-linejoin:miter;\" x=\"301.072344\" xlink:href=\"#m39fb3ad1b7\" y=\"236.094083\"/>\n     <use style=\"fill:#4c4c4c;stroke:#4c4c4c;stroke-linejoin:miter;\" x=\"301.072344\" xlink:href=\"#m39fb3ad1b7\" y=\"194.774244\"/>\n     <use style=\"fill:#4c4c4c;stroke:#4c4c4c;stroke-linejoin:miter;\" x=\"301.072344\" xlink:href=\"#m39fb3ad1b7\" y=\"224.280813\"/>\n     <use style=\"fill:#4c4c4c;stroke:#4c4c4c;stroke-linejoin:miter;\" x=\"301.072344\" xlink:href=\"#m39fb3ad1b7\" y=\"239.260252\"/>\n     <use style=\"fill:#4c4c4c;stroke:#4c4c4c;stroke-linejoin:miter;\" x=\"301.072344\" xlink:href=\"#m39fb3ad1b7\" y=\"224.200993\"/>\n     <use style=\"fill:#4c4c4c;stroke:#4c4c4c;stroke-linejoin:miter;\" x=\"301.072344\" xlink:href=\"#m39fb3ad1b7\" y=\"225.0524\"/>\n     <use style=\"fill:#4c4c4c;stroke:#4c4c4c;stroke-linejoin:miter;\" x=\"301.072344\" xlink:href=\"#m39fb3ad1b7\" y=\"236.918883\"/>\n     <use style=\"fill:#4c4c4c;stroke:#4c4c4c;stroke-linejoin:miter;\" x=\"301.072344\" xlink:href=\"#m39fb3ad1b7\" y=\"233.193978\"/>\n     <use style=\"fill:#4c4c4c;stroke:#4c4c4c;stroke-linejoin:miter;\" x=\"301.072344\" xlink:href=\"#m39fb3ad1b7\" y=\"207.199463\"/>\n     <use style=\"fill:#4c4c4c;stroke:#4c4c4c;stroke-linejoin:miter;\" x=\"301.072344\" xlink:href=\"#m39fb3ad1b7\" y=\"177.692894\"/>\n     <use style=\"fill:#4c4c4c;stroke:#4c4c4c;stroke-linejoin:miter;\" x=\"301.072344\" xlink:href=\"#m39fb3ad1b7\" y=\"236.892277\"/>\n     <use style=\"fill:#4c4c4c;stroke:#4c4c4c;stroke-linejoin:miter;\" x=\"301.072344\" xlink:href=\"#m39fb3ad1b7\" y=\"239.526317\"/>\n     <use style=\"fill:#4c4c4c;stroke:#4c4c4c;stroke-linejoin:miter;\" x=\"301.072344\" xlink:href=\"#m39fb3ad1b7\" y=\"238.568484\"/>\n     <use style=\"fill:#4c4c4c;stroke:#4c4c4c;stroke-linejoin:miter;\" x=\"301.072344\" xlink:href=\"#m39fb3ad1b7\" y=\"201.372647\"/>\n     <use style=\"fill:#4c4c4c;stroke:#4c4c4c;stroke-linejoin:miter;\" x=\"301.072344\" xlink:href=\"#m39fb3ad1b7\" y=\"223.828503\"/>\n     <use style=\"fill:#4c4c4c;stroke:#4c4c4c;stroke-linejoin:miter;\" x=\"301.072344\" xlink:href=\"#m39fb3ad1b7\" y=\"227.979111\"/>\n     <use style=\"fill:#4c4c4c;stroke:#4c4c4c;stroke-linejoin:miter;\" x=\"301.072344\" xlink:href=\"#m39fb3ad1b7\" y=\"224.786336\"/>\n     <use style=\"fill:#4c4c4c;stroke:#4c4c4c;stroke-linejoin:miter;\" x=\"301.072344\" xlink:href=\"#m39fb3ad1b7\" y=\"230.160841\"/>\n     <use style=\"fill:#4c4c4c;stroke:#4c4c4c;stroke-linejoin:miter;\" x=\"301.072344\" xlink:href=\"#m39fb3ad1b7\" y=\"230.32048\"/>\n    </g>\n   </g>\n   <g id=\"line2d_24\">\n    <path clip-path=\"url(#pc0f5ac354e)\" d=\"M 457.312344 270.101135 \nL 457.312344 316.764883 \n\" style=\"fill:none;stroke:#4c4c4c;stroke-linecap:round;stroke-width:1.5;\"/>\n   </g>\n   <g id=\"line2d_25\">\n    <path clip-path=\"url(#pc0f5ac354e)\" d=\"M 457.312344 212.959762 \nL 457.312344 134.29775 \n\" style=\"fill:none;stroke:#4c4c4c;stroke-linecap:round;stroke-width:1.5;\"/>\n   </g>\n   <g id=\"line2d_26\">\n    <path clip-path=\"url(#pc0f5ac354e)\" d=\"M 446.375544 316.764883 \nL 468.249144 316.764883 \n\" style=\"fill:none;stroke:#4c4c4c;stroke-linecap:round;stroke-width:1.5;\"/>\n   </g>\n   <g id=\"line2d_27\">\n    <path clip-path=\"url(#pc0f5ac354e)\" d=\"M 446.375544 134.29775 \nL 468.249144 134.29775 \n\" style=\"fill:none;stroke:#4c4c4c;stroke-linecap:round;stroke-width:1.5;\"/>\n   </g>\n   <g id=\"line2d_28\">\n    <g clip-path=\"url(#pc0f5ac354e)\">\n     <use style=\"fill:#4c4c4c;stroke:#4c4c4c;stroke-linejoin:miter;\" x=\"457.312344\" xlink:href=\"#m39fb3ad1b7\" y=\"120.063292\"/>\n    </g>\n   </g>\n   <g id=\"line2d_29\">\n    <path clip-path=\"url(#pc0f5ac354e)\" d=\"M 568.912344 302.45127 \nL 568.912344 334.298543 \n\" style=\"fill:none;stroke:#4c4c4c;stroke-linecap:round;stroke-width:1.5;\"/>\n   </g>\n   <g id=\"line2d_30\">\n    <path clip-path=\"url(#pc0f5ac354e)\" d=\"M 568.912344 275.82219 \nL 568.912344 238.009748 \n\" style=\"fill:none;stroke:#4c4c4c;stroke-linecap:round;stroke-width:1.5;\"/>\n   </g>\n   <g id=\"line2d_31\">\n    <path clip-path=\"url(#pc0f5ac354e)\" d=\"M 557.975544 334.298543 \nL 579.849144 334.298543 \n\" style=\"fill:none;stroke:#4c4c4c;stroke-linecap:round;stroke-width:1.5;\"/>\n   </g>\n   <g id=\"line2d_32\">\n    <path clip-path=\"url(#pc0f5ac354e)\" d=\"M 557.975544 238.009748 \nL 579.849144 238.009748 \n\" style=\"fill:none;stroke:#4c4c4c;stroke-linecap:round;stroke-width:1.5;\"/>\n   </g>\n   <g id=\"line2d_33\">\n    <g clip-path=\"url(#pc0f5ac354e)\">\n     <use style=\"fill:#4c4c4c;stroke:#4c4c4c;stroke-linejoin:miter;\" x=\"568.912344\" xlink:href=\"#m39fb3ad1b7\" y=\"229.41586\"/>\n     <use style=\"fill:#4c4c4c;stroke:#4c4c4c;stroke-linejoin:miter;\" x=\"568.912344\" xlink:href=\"#m39fb3ad1b7\" y=\"207.199463\"/>\n     <use style=\"fill:#4c4c4c;stroke:#4c4c4c;stroke-linejoin:miter;\" x=\"568.912344\" xlink:href=\"#m39fb3ad1b7\" y=\"218.187932\"/>\n    </g>\n   </g>\n   <g id=\"line2d_34\">\n    <path clip-path=\"url(#pc0f5ac354e)\" d=\"M 680.512344 316.874635 \nL 680.512344 355.796566 \n\" style=\"fill:none;stroke:#4c4c4c;stroke-linecap:round;stroke-width:1.5;\"/>\n   </g>\n   <g id=\"line2d_35\">\n    <path clip-path=\"url(#pc0f5ac354e)\" d=\"M 680.512344 286.241282 \nL 680.512344 246.630243 \n\" style=\"fill:none;stroke:#4c4c4c;stroke-linecap:round;stroke-width:1.5;\"/>\n   </g>\n   <g id=\"line2d_36\">\n    <path clip-path=\"url(#pc0f5ac354e)\" d=\"M 669.575544 355.796566 \nL 691.449144 355.796566 \n\" style=\"fill:none;stroke:#4c4c4c;stroke-linecap:round;stroke-width:1.5;\"/>\n   </g>\n   <g id=\"line2d_37\">\n    <path clip-path=\"url(#pc0f5ac354e)\" d=\"M 669.575544 246.630243 \nL 691.449144 246.630243 \n\" style=\"fill:none;stroke:#4c4c4c;stroke-linecap:round;stroke-width:1.5;\"/>\n   </g>\n   <g id=\"line2d_38\">\n    <g clip-path=\"url(#pc0f5ac354e)\">\n     <use style=\"fill:#4c4c4c;stroke:#4c4c4c;stroke-linejoin:miter;\" x=\"680.512344\" xlink:href=\"#m39fb3ad1b7\" y=\"215.899776\"/>\n    </g>\n   </g>\n   <g id=\"line2d_39\">\n    <path clip-path=\"url(#pc0f5ac354e)\" d=\"M 100.638744 281.301127 \nL 144.385944 281.301127 \n\" style=\"fill:none;stroke:#4c4c4c;stroke-linecap:round;stroke-width:1.5;\"/>\n   </g>\n   <g id=\"line2d_40\">\n    <path clip-path=\"url(#pc0f5ac354e)\" d=\"M 212.238744 164.708939 \nL 255.985944 164.708939 \n\" style=\"fill:none;stroke:#4c4c4c;stroke-linecap:round;stroke-width:1.5;\"/>\n   </g>\n   <g id=\"line2d_41\">\n    <path clip-path=\"url(#pc0f5ac354e)\" d=\"M 279.198744 296.561264 \nL 322.945944 296.561264 \n\" style=\"fill:none;stroke:#4c4c4c;stroke-linecap:round;stroke-width:1.5;\"/>\n   </g>\n   <g id=\"line2d_42\">\n    <path clip-path=\"url(#pc0f5ac354e)\" d=\"M 435.438744 240.417633 \nL 479.185944 240.417633 \n\" style=\"fill:none;stroke:#4c4c4c;stroke-linecap:round;stroke-width:1.5;\"/>\n   </g>\n   <g id=\"line2d_43\">\n    <path clip-path=\"url(#pc0f5ac354e)\" d=\"M 547.038744 288.772222 \nL 590.785944 288.772222 \n\" style=\"fill:none;stroke:#4c4c4c;stroke-linecap:round;stroke-width:1.5;\"/>\n   </g>\n   <g id=\"line2d_44\">\n    <path clip-path=\"url(#pc0f5ac354e)\" d=\"M 658.638744 298.296006 \nL 702.385944 298.296006 \n\" style=\"fill:none;stroke:#4c4c4c;stroke-linecap:round;stroke-width:1.5;\"/>\n   </g>\n   <g id=\"patch_11\">\n    <path d=\"M 44.392344 442.08 \nL 44.392344 7.2 \n\" style=\"fill:none;stroke:#ffffff;stroke-linecap:square;stroke-linejoin:miter;stroke-width:1.25;\"/>\n   </g>\n   <g id=\"patch_12\">\n    <path d=\"M 713.992344 442.08 \nL 713.992344 7.2 \n\" style=\"fill:none;stroke:#ffffff;stroke-linecap:square;stroke-linejoin:miter;stroke-width:1.25;\"/>\n   </g>\n   <g id=\"patch_13\">\n    <path d=\"M 44.392344 442.08 \nL 713.992344 442.08 \n\" style=\"fill:none;stroke:#ffffff;stroke-linecap:square;stroke-linejoin:miter;stroke-width:1.25;\"/>\n   </g>\n   <g id=\"patch_14\">\n    <path d=\"M 44.392344 7.2 \nL 713.992344 7.2 \n\" style=\"fill:none;stroke:#ffffff;stroke-linecap:square;stroke-linejoin:miter;stroke-width:1.25;\"/>\n   </g>\n   <g id=\"legend_1\">\n    <g id=\"patch_15\">\n     <path d=\"M 644.195625 63.594062 \nL 706.292344 63.594062 \nQ 708.492344 63.594062 708.492344 61.394062 \nL 708.492344 14.9 \nQ 708.492344 12.7 706.292344 12.7 \nL 644.195625 12.7 \nQ 641.995625 12.7 641.995625 14.9 \nL 641.995625 61.394062 \nQ 641.995625 63.594062 644.195625 63.594062 \nz\n\" style=\"fill:#eaeaf2;opacity:0.8;stroke:#cccccc;stroke-linejoin:miter;\"/>\n    </g>\n    <g id=\"text_17\">\n     <!-- ativo_moa -->\n     <g style=\"fill:#262626;\" transform=\"translate(647.563359 25.689375)scale(0.12 -0.12)\">\n      <defs>\n       <path d=\"M 1650 503 \nL 1731 6 \nQ 1494 -44 1306 -44 \nQ 1000 -44 831 53 \nQ 663 150 594 308 \nQ 525 466 525 972 \nL 525 2881 \nL 113 2881 \nL 113 3319 \nL 525 3319 \nL 525 4141 \nL 1084 4478 \nL 1084 3319 \nL 1650 3319 \nL 1650 2881 \nL 1084 2881 \nL 1084 941 \nQ 1084 700 1114 631 \nQ 1144 563 1211 522 \nQ 1278 481 1403 481 \nQ 1497 481 1650 503 \nz\n\" id=\"ArialMT-74\" transform=\"scale(0.015625)\"/>\n       <path d=\"M 425 3934 \nL 425 4581 \nL 988 4581 \nL 988 3934 \nL 425 3934 \nz\nM 425 0 \nL 425 3319 \nL 988 3319 \nL 988 0 \nL 425 0 \nz\n\" id=\"ArialMT-69\" transform=\"scale(0.015625)\"/>\n       <path d=\"M 1344 0 \nL 81 3319 \nL 675 3319 \nL 1388 1331 \nQ 1503 1009 1600 663 \nQ 1675 925 1809 1294 \nL 2547 3319 \nL 3125 3319 \nL 1869 0 \nL 1344 0 \nz\n\" id=\"ArialMT-76\" transform=\"scale(0.015625)\"/>\n       <path d=\"M -97 -1272 \nL -97 -866 \nL 3631 -866 \nL 3631 -1272 \nL -97 -1272 \nz\n\" id=\"ArialMT-5f\" transform=\"scale(0.015625)\"/>\n       <path d=\"M 422 0 \nL 422 3319 \nL 925 3319 \nL 925 2853 \nQ 1081 3097 1340 3245 \nQ 1600 3394 1931 3394 \nQ 2300 3394 2536 3241 \nQ 2772 3088 2869 2813 \nQ 3263 3394 3894 3394 \nQ 4388 3394 4653 3120 \nQ 4919 2847 4919 2278 \nL 4919 0 \nL 4359 0 \nL 4359 2091 \nQ 4359 2428 4304 2576 \nQ 4250 2725 4106 2815 \nQ 3963 2906 3769 2906 \nQ 3419 2906 3187 2673 \nQ 2956 2441 2956 1928 \nL 2956 0 \nL 2394 0 \nL 2394 2156 \nQ 2394 2531 2256 2718 \nQ 2119 2906 1806 2906 \nQ 1569 2906 1367 2781 \nQ 1166 2656 1075 2415 \nQ 984 2175 984 1722 \nL 984 0 \nL 422 0 \nz\n\" id=\"ArialMT-6d\" transform=\"scale(0.015625)\"/>\n      </defs>\n      <use xlink:href=\"#ArialMT-61\"/>\n      <use x=\"55.615234\" xlink:href=\"#ArialMT-74\"/>\n      <use x=\"83.398438\" xlink:href=\"#ArialMT-69\"/>\n      <use x=\"105.615234\" xlink:href=\"#ArialMT-76\"/>\n      <use x=\"155.615234\" xlink:href=\"#ArialMT-6f\"/>\n      <use x=\"211.230469\" xlink:href=\"#ArialMT-5f\"/>\n      <use x=\"266.845703\" xlink:href=\"#ArialMT-6d\"/>\n      <use x=\"350.146484\" xlink:href=\"#ArialMT-6f\"/>\n      <use x=\"405.761719\" xlink:href=\"#ArialMT-61\"/>\n     </g>\n    </g>\n    <g id=\"patch_16\">\n     <path d=\"M 646.395625 41.447969 \nL 668.395625 41.447969 \nL 668.395625 33.747969 \nL 646.395625 33.747969 \nz\n\" style=\"fill:#5875a4;stroke:#4c4c4c;stroke-linejoin:miter;stroke-width:0.75;\"/>\n    </g>\n    <g id=\"text_18\">\n     <!-- False -->\n     <g style=\"fill:#262626;\" transform=\"translate(677.195625 41.447969)scale(0.11 -0.11)\">\n      <defs>\n       <path d=\"M 525 0 \nL 525 4581 \nL 3616 4581 \nL 3616 4041 \nL 1131 4041 \nL 1131 2622 \nL 3281 2622 \nL 3281 2081 \nL 1131 2081 \nL 1131 0 \nL 525 0 \nz\n\" id=\"ArialMT-46\" transform=\"scale(0.015625)\"/>\n       <path d=\"M 409 0 \nL 409 4581 \nL 972 4581 \nL 972 0 \nL 409 0 \nz\n\" id=\"ArialMT-6c\" transform=\"scale(0.015625)\"/>\n       <path d=\"M 197 991 \nL 753 1078 \nQ 800 744 1014 566 \nQ 1228 388 1613 388 \nQ 2000 388 2187 545 \nQ 2375 703 2375 916 \nQ 2375 1106 2209 1216 \nQ 2094 1291 1634 1406 \nQ 1016 1563 777 1677 \nQ 538 1791 414 1992 \nQ 291 2194 291 2438 \nQ 291 2659 392 2848 \nQ 494 3038 669 3163 \nQ 800 3259 1026 3326 \nQ 1253 3394 1513 3394 \nQ 1903 3394 2198 3281 \nQ 2494 3169 2634 2976 \nQ 2775 2784 2828 2463 \nL 2278 2388 \nQ 2241 2644 2061 2787 \nQ 1881 2931 1553 2931 \nQ 1166 2931 1000 2803 \nQ 834 2675 834 2503 \nQ 834 2394 903 2306 \nQ 972 2216 1119 2156 \nQ 1203 2125 1616 2013 \nQ 2213 1853 2448 1751 \nQ 2684 1650 2818 1456 \nQ 2953 1263 2953 975 \nQ 2953 694 2789 445 \nQ 2625 197 2315 61 \nQ 2006 -75 1616 -75 \nQ 969 -75 630 194 \nQ 291 463 197 991 \nz\n\" id=\"ArialMT-73\" transform=\"scale(0.015625)\"/>\n      </defs>\n      <use xlink:href=\"#ArialMT-46\"/>\n      <use x=\"61.083984\" xlink:href=\"#ArialMT-61\"/>\n      <use x=\"116.699219\" xlink:href=\"#ArialMT-6c\"/>\n      <use x=\"138.916016\" xlink:href=\"#ArialMT-73\"/>\n      <use x=\"188.916016\" xlink:href=\"#ArialMT-65\"/>\n     </g>\n    </g>\n    <g id=\"patch_17\">\n     <path d=\"M 646.395625 57.007812 \nL 668.395625 57.007812 \nL 668.395625 49.307812 \nL 646.395625 49.307812 \nz\n\" style=\"fill:#cc8963;stroke:#4c4c4c;stroke-linejoin:miter;stroke-width:0.75;\"/>\n    </g>\n    <g id=\"text_19\">\n     <!-- True -->\n     <g style=\"fill:#262626;\" transform=\"translate(677.195625 57.007812)scale(0.11 -0.11)\">\n      <defs>\n       <path d=\"M 1659 0 \nL 1659 4041 \nL 150 4041 \nL 150 4581 \nL 3781 4581 \nL 3781 4041 \nL 2266 4041 \nL 2266 0 \nL 1659 0 \nz\n\" id=\"ArialMT-54\" transform=\"scale(0.015625)\"/>\n       <path d=\"M 2597 0 \nL 2597 488 \nQ 2209 -75 1544 -75 \nQ 1250 -75 995 37 \nQ 741 150 617 320 \nQ 494 491 444 738 \nQ 409 903 409 1263 \nL 409 3319 \nL 972 3319 \nL 972 1478 \nQ 972 1038 1006 884 \nQ 1059 663 1231 536 \nQ 1403 409 1656 409 \nQ 1909 409 2131 539 \nQ 2353 669 2445 892 \nQ 2538 1116 2538 1541 \nL 2538 3319 \nL 3100 3319 \nL 3100 0 \nL 2597 0 \nz\n\" id=\"ArialMT-75\" transform=\"scale(0.015625)\"/>\n      </defs>\n      <use xlink:href=\"#ArialMT-54\"/>\n      <use x=\"57.333984\" xlink:href=\"#ArialMT-72\"/>\n      <use x=\"90.634766\" xlink:href=\"#ArialMT-75\"/>\n      <use x=\"146.25\" xlink:href=\"#ArialMT-65\"/>\n     </g>\n    </g>\n   </g>\n  </g>\n </g>\n <defs>\n  <clipPath id=\"pc0f5ac354e\">\n   <rect height=\"434.88\" width=\"669.6\" x=\"44.392344\" y=\"7.2\"/>\n  </clipPath>\n </defs>\n</svg>\n",
      "image/png": "[encoded data removed]"
     },
     "metadata": {}
    }
   ],
   "source": [
    "plt.figure(figsize=(12,8))\n",
    "droga_principal = dados_merge['droga'].value_counts().index[:6]\n",
    "sns.boxplot(data=dados_merge.query('droga in @droga_principal'), y='g-0', x='droga', hue='ativo_moa')"
   ]
  },
  {
   "source": [
    "## Dicas para interpretar os dados\n",
    "- quais colunas são mais importantes?\n",
    "\n",
    "- formatar os dados\n",
    "\n",
    "- os tipos de valores que uma coluna tem\n",
    "    - tabela\\['coluna'].unique()\n",
    "\n",
    "- contar a quantidade de vezes que os tipos de valores aparecem na coluna\n",
    "    - tabela\\['coluna'].value_counts()\n",
    "\n",
    "- a porcentagem de cada tipo de valor na coluna\n",
    "    - tabela\\['coluna'].value_counts(normalize=True)\n",
    "\n",
    "- por que existe uma discrepância muito grande entre um tipo de valor e outro da coluna?\n",
    "\n",
    "- saber o valor máximo e minimo, pois as vezes são normalizados para o número não ficar muito grande\n",
    "\n",
    "- grafico para apresentar a informação melhor\n",
    "    - crosstab (tabela de frequencia): fazer correlação entre colunas, causa e efeito\n",
    "    - boxplot: \n",
    "    - histograma: "
   ],
   "cell_type": "markdown",
   "metadata": {}
  },
  {
   "source": [
    "## Aula 4\n",
    "\n",
    "### Desafio 01: \n",
    "\n",
    "## Aula 3\n",
    "\n",
    "### Desafio 01: Tabela de frequencias com pandas.groupby()\n",
    "### Desafio 02: Normalizar o crosstab pela coluna pra dar 1\n",
    "### Desafio 03: Explorar outros agregadores alem da média (mean)\n",
    "### Desafio 04: Explorar o .melt, .groupby, .crosstab\n",
    "### Desafio 05: Correlação entre G e C\n",
    "\n",
    "## Aula 2\n",
    "\n",
    "### Desafio 01: Ordenar o grafico do maior pro menor\n",
    "### Desafio 02: Mudar o título do eixo x e y, mudar o tamanho da fonte\n",
    "### Desafio 03: Plotar os histogramas do deaborn\n",
    "### Desafio 04: Estudar os tipos de estatisticas do .describe()\n",
    "\n",
    "## Aula 1\n",
    "\n",
    "### Desafio 01: Investigas por que a classe tratamento é tão desbalanceado\n",
    "### Desafio 02: Plotar as 5 ultimas linhas da tabela\n",
    "### Desafio 03: Proporção das classes tratamento\n",
    "### Desafio 04: Quantos tipos de drogas foram investigadas\n",
    "### Desafio 05: Procurar o método query na documentação do pandas\n",
    "### Desafio 06: Renomear a coluna tirando o hifen\n",
    "### Desafio 07: Colocar título e label nos graficos com matplotlib"
   ],
   "cell_type": "markdown",
   "metadata": {}
  }
 ]
}